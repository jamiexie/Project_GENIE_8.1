{
 "cells": [
  {
   "cell_type": "markdown",
   "metadata": {},
   "source": [
    "# Breast Analysis"
   ]
  },
  {
   "cell_type": "code",
   "execution_count": 1,
   "metadata": {},
   "outputs": [],
   "source": [
    "import numpy as np\n",
    "import pandas as pd\n",
    "import matplotlib.pyplot as plt\n",
    "import seaborn as sns\n",
    "\n",
    "import random\n",
    "import scipy\n",
    "from scipy import stats\n",
    "import statsmodels.stats.multitest as ssm"
   ]
  },
  {
   "cell_type": "code",
   "execution_count": 2,
   "metadata": {},
   "outputs": [],
   "source": [
    "# settings for editable pdfs\n",
    "plt.rcParams['pdf.fonttype'] = 42\n",
    "plt.rcParams['ps.fonttype'] = 42"
   ]
  },
  {
   "cell_type": "code",
   "execution_count": 3,
   "metadata": {},
   "outputs": [],
   "source": [
    "# # set size of tick labels\n",
    "# plt.rc('xtick', labelsize=15)\n",
    "# plt.rc('ytick', labelsize=15)"
   ]
  },
  {
   "cell_type": "markdown",
   "metadata": {},
   "source": [
    "## Load data, preprocessing"
   ]
  },
  {
   "cell_type": "markdown",
   "metadata": {},
   "source": [
    "### Load MAF data"
   ]
  },
  {
   "cell_type": "code",
   "execution_count": 4,
   "metadata": {},
   "outputs": [
    {
     "name": "stderr",
     "output_type": "stream",
     "text": [
      "/Users/jamie/opt/anaconda3/envs/singlecell/lib/python3.8/site-packages/IPython/core/interactiveshell.py:3071: DtypeWarning: Columns (35,36,53) have mixed types.Specify dtype option on import or set low_memory=False.\n",
      "  has_raised = await self.run_ast_nodes(code_ast.body, cell_name,\n"
     ]
    }
   ],
   "source": [
    "# load genie version 8.1\n",
    "master_mut = pd.read_csv(\"R_script/cleaned_data/GENIE8.1_master_list_clinical_gen.tsv\", sep='\\t')"
   ]
  },
  {
   "cell_type": "markdown",
   "metadata": {},
   "source": [
    "### Load panels"
   ]
  },
  {
   "cell_type": "code",
   "execution_count": 5,
   "metadata": {},
   "outputs": [],
   "source": [
    "DFCI_1 = pd.read_csv('R_script/Panels/DFCI_1.txt', sep='\\t')\n",
    "DFCI_2 = pd.read_csv('R_script/Panels/DFCI_2.txt', sep='\\t')\n",
    "DFCI_3 = pd.read_csv('R_script/Panels/DFCI_3.txt', sep='\\t')\n",
    "DFCI_3_1 = DFCI_3.copy()"
   ]
  },
  {
   "cell_type": "code",
   "execution_count": 6,
   "metadata": {},
   "outputs": [],
   "source": [
    "DFCI_1['SEQ_ASSAY_ID'] = 'DFCI-ONCOPANEL-1'\n",
    "DFCI_2['SEQ_ASSAY_ID'] = 'DFCI-ONCOPANEL-2'\n",
    "DFCI_3['SEQ_ASSAY_ID'] = 'DFCI-ONCOPANEL-3'\n",
    "DFCI_3_1['SEQ_ASSAY_ID'] = 'DFCI-ONCOPANEL-3.1'"
   ]
  },
  {
   "cell_type": "code",
   "execution_count": 7,
   "metadata": {},
   "outputs": [],
   "source": [
    "MSK_341 = pd.read_csv('R_script/Panels/IMPACT_341.txt', sep='\\t')\n",
    "MSK_410 = pd.read_csv('R_script/Panels/IMPACT_410.txt', sep='\\t')\n",
    "MSK_468 = pd.read_csv('R_script/Panels/IMPACT_468.txt', sep='\\t')"
   ]
  },
  {
   "cell_type": "code",
   "execution_count": 8,
   "metadata": {},
   "outputs": [],
   "source": [
    "MSK_341['SEQ_ASSAY_ID'] = 'MSK-IMPACT-341'\n",
    "MSK_410['SEQ_ASSAY_ID'] = 'MSK-IMPACT-410'\n",
    "MSK_468['SEQ_ASSAY_ID'] = 'MSK-IMPACT-468'"
   ]
  },
  {
   "cell_type": "code",
   "execution_count": 9,
   "metadata": {},
   "outputs": [],
   "source": [
    "combined_panels = pd.concat([DFCI_1, DFCI_2, DFCI_3, DFCI_3_1, MSK_341, MSK_410, MSK_468]).groupby(\n",
    "    'Hugo_Symbol')['SEQ_ASSAY_ID'].apply(list).to_frame()"
   ]
  },
  {
   "cell_type": "markdown",
   "metadata": {},
   "source": [
    "### Define Variables of interest"
   ]
  },
  {
   "cell_type": "code",
   "execution_count": 10,
   "metadata": {},
   "outputs": [],
   "source": [
    "cancers = ['BRCA', 'IDC', 'ILC']\n",
    "\n",
    "centers = ['MSK', 'DFCI']\n",
    "\n",
    "panels = ['DFCI-ONCOPANEL-1', 'DFCI-ONCOPANEL-2', 'DFCI-ONCOPANEL-3', 'DFCI-ONCOPANEL-3.1', \n",
    "                        'MSK-IMPACT-341', 'MSK-IMPACT-410', 'MSK-IMPACT-468']\n",
    "\n",
    "races = ['Asian', 'Black', 'White']\n",
    "\n",
    "sample_types = ['Primary', 'Metastasis']\n",
    "\n",
    "variants = ['Missense_Mutation', 'Splice_Site', 'Nonsense_Mutation', 'Frame_Shift_Del', \n",
    "                         'Frame_Shift_Ins', 'Nonstop_Mutation', 'In_Frame_Del']"
   ]
  },
  {
   "cell_type": "markdown",
   "metadata": {},
   "source": [
    "### Filter MAF data by variables of interest"
   ]
  },
  {
   "cell_type": "code",
   "execution_count": 11,
   "metadata": {},
   "outputs": [],
   "source": [
    "master_mut['SEQ_ASSAY_ID'] = master_mut['SEQ_ASSAY_ID'].replace({'MSK-IMPACT341':'MSK-IMPACT-341', \n",
    "                                                                 'MSK-IMPACT410':'MSK-IMPACT-410', \n",
    "                                                                 'MSK-IMPACT468':'MSK-IMPACT-468'})"
   ]
  },
  {
   "cell_type": "code",
   "execution_count": 12,
   "metadata": {},
   "outputs": [],
   "source": [
    "# (NOTE From Scanner's code: do not subset by Variant_Classification yet as that will skew our denominator and demographic numbers)\n",
    "\n",
    "filt_mut = master_mut[(master_mut['ONCOTREE_CODE'].isin(cancers)) & (master_mut['SEQ_ASSAY_ID'].isin(panels)) & (\n",
    "    master_mut['PRIMARY_RACE'].isin(races) & master_mut['SAMPLE_TYPE'].isin(sample_types))]"
   ]
  },
  {
   "cell_type": "markdown",
   "metadata": {},
   "source": [
    "## Create dictionaries separated by primary/metstasis"
   ]
  },
  {
   "cell_type": "markdown",
   "metadata": {},
   "source": [
    "### Non-filtered by variants"
   ]
  },
  {
   "cell_type": "code",
   "execution_count": 13,
   "metadata": {},
   "outputs": [],
   "source": [
    "mut_dict = {}"
   ]
  },
  {
   "cell_type": "code",
   "execution_count": 14,
   "metadata": {},
   "outputs": [],
   "source": [
    "mut_dict['prim'] = filt_mut[filt_mut['SAMPLE_TYPE'] == 'Primary']\n",
    "mut_dict['met'] = filt_mut[filt_mut['SAMPLE_TYPE'] == 'Metastasis']"
   ]
  },
  {
   "cell_type": "markdown",
   "metadata": {},
   "source": [
    "### Filter by variants of interest"
   ]
  },
  {
   "cell_type": "code",
   "execution_count": 15,
   "metadata": {},
   "outputs": [],
   "source": [
    "# using this data for subsequent analysis"
   ]
  },
  {
   "cell_type": "code",
   "execution_count": 16,
   "metadata": {},
   "outputs": [],
   "source": [
    "var_mut_dict = {}"
   ]
  },
  {
   "cell_type": "code",
   "execution_count": 17,
   "metadata": {},
   "outputs": [],
   "source": [
    "# variants to include\n",
    "variants = ['Missense_Mutation', 'Splice_Site', 'Nonsense_Mutation', 'Frame_Shift_Del', \n",
    "                         'Frame_Shift_Ins', 'Nonstop_Mutation', 'In_Frame_Del']"
   ]
  },
  {
   "cell_type": "code",
   "execution_count": 18,
   "metadata": {},
   "outputs": [],
   "source": [
    "var_filt_mut = filt_mut[filt_mut['Variant_Classification'].isin(variants)]"
   ]
  },
  {
   "cell_type": "code",
   "execution_count": 19,
   "metadata": {},
   "outputs": [],
   "source": [
    "var_mut_dict['prim'] =  var_filt_mut[var_filt_mut['SAMPLE_TYPE'] == 'Primary']\n",
    "var_mut_dict['met'] = var_filt_mut[var_filt_mut['SAMPLE_TYPE'] == 'Metastasis']"
   ]
  },
  {
   "cell_type": "markdown",
   "metadata": {},
   "source": [
    "## Demographic Information"
   ]
  },
  {
   "cell_type": "code",
   "execution_count": 20,
   "metadata": {},
   "outputs": [],
   "source": [
    "# looking at non-filtered by variant data"
   ]
  },
  {
   "cell_type": "code",
   "execution_count": 21,
   "metadata": {},
   "outputs": [],
   "source": [
    "race_demo_dict = {}\n",
    "panel_demo_dict = {}"
   ]
  },
  {
   "cell_type": "markdown",
   "metadata": {},
   "source": [
    "### Overall (Primary + Metastasis)"
   ]
  },
  {
   "cell_type": "code",
   "execution_count": 22,
   "metadata": {},
   "outputs": [
    {
     "data": {
      "text/plain": [
       "5008"
      ]
     },
     "execution_count": 22,
     "metadata": {},
     "output_type": "execute_result"
    }
   ],
   "source": [
    "# total number of unique patients\n",
    "len(filt_mut.groupby('PATIENT_ID').nunique())"
   ]
  },
  {
   "cell_type": "code",
   "execution_count": 23,
   "metadata": {},
   "outputs": [],
   "source": [
    "race_demo_dict['overall'] = filt_mut.groupby('PRIMARY_RACE')['PATIENT_ID'].nunique()\n",
    "panel_demo_dict['overall'] = filt_mut.groupby('SEQ_ASSAY_ID')['PATIENT_ID'].nunique()"
   ]
  },
  {
   "cell_type": "code",
   "execution_count": 24,
   "metadata": {},
   "outputs": [
    {
     "data": {
      "text/plain": [
       "PRIMARY_RACE\n",
       "Asian     324\n",
       "Black     454\n",
       "White    4230\n",
       "Name: PATIENT_ID, dtype: int64"
      ]
     },
     "execution_count": 24,
     "metadata": {},
     "output_type": "execute_result"
    }
   ],
   "source": [
    "# by race\n",
    "race_demo_dict['overall']"
   ]
  },
  {
   "cell_type": "code",
   "execution_count": 25,
   "metadata": {},
   "outputs": [
    {
     "data": {
      "image/png": "[encoded data removed]",
      "text/plain": [
       "<Figure size 432x288 with 1 Axes>"
      ]
     },
     "metadata": {},
     "output_type": "display_data"
    }
   ],
   "source": [
    "plt.title('Breast Cancer', size=15)\n",
    "plt.pie(race_demo_dict['overall'], \n",
    "        labels=['Asian', 'Black', 'White'],\n",
    "       autopct='%1.1f%%',\n",
    "       textprops = dict(rotation_mode = 'anchor', \n",
    "#                         va='center', \n",
    "#                         ha='center', \n",
    "                        size=15));"
   ]
  },
  {
   "cell_type": "code",
   "execution_count": 26,
   "metadata": {},
   "outputs": [
    {
     "data": {
      "text/plain": [
       "SEQ_ASSAY_ID\n",
       "DFCI-ONCOPANEL-1       171\n",
       "DFCI-ONCOPANEL-2       707\n",
       "DFCI-ONCOPANEL-3       449\n",
       "DFCI-ONCOPANEL-3.1     159\n",
       "MSK-IMPACT-341         329\n",
       "MSK-IMPACT-410         820\n",
       "MSK-IMPACT-468        2511\n",
       "Name: PATIENT_ID, dtype: int64"
      ]
     },
     "execution_count": 26,
     "metadata": {},
     "output_type": "execute_result"
    }
   ],
   "source": [
    "# by panels\n",
    "panel_demo_dict['overall']"
   ]
  },
  {
   "cell_type": "markdown",
   "metadata": {},
   "source": [
    "### Primary"
   ]
  },
  {
   "cell_type": "code",
   "execution_count": 27,
   "metadata": {},
   "outputs": [
    {
     "data": {
      "text/plain": [
       "2923"
      ]
     },
     "execution_count": 27,
     "metadata": {},
     "output_type": "execute_result"
    }
   ],
   "source": [
    "# total primary\n",
    "len(mut_dict['prim'].groupby('PATIENT_ID').nunique())"
   ]
  },
  {
   "cell_type": "code",
   "execution_count": 28,
   "metadata": {},
   "outputs": [],
   "source": [
    "race_demo_dict['prim'] = mut_dict['prim'].groupby('PRIMARY_RACE')['PATIENT_ID'].nunique()\n",
    "panel_demo_dict['prim'] = mut_dict['prim'].groupby('SEQ_ASSAY_ID')['PATIENT_ID'].nunique()"
   ]
  },
  {
   "cell_type": "code",
   "execution_count": 29,
   "metadata": {},
   "outputs": [
    {
     "data": {
      "text/plain": [
       "PRIMARY_RACE\n",
       "Asian     200\n",
       "Black     270\n",
       "White    2453\n",
       "Name: PATIENT_ID, dtype: int64"
      ]
     },
     "execution_count": 29,
     "metadata": {},
     "output_type": "execute_result"
    }
   ],
   "source": [
    "# by race\n",
    "race_demo_dict['prim']"
   ]
  },
  {
   "cell_type": "code",
   "execution_count": 30,
   "metadata": {},
   "outputs": [
    {
     "data": {
      "text/plain": [
       "SEQ_ASSAY_ID\n",
       "DFCI-ONCOPANEL-1       108\n",
       "DFCI-ONCOPANEL-2       453\n",
       "DFCI-ONCOPANEL-3       268\n",
       "DFCI-ONCOPANEL-3.1      42\n",
       "MSK-IMPACT-341         135\n",
       "MSK-IMPACT-410         340\n",
       "MSK-IMPACT-468        1597\n",
       "Name: PATIENT_ID, dtype: int64"
      ]
     },
     "execution_count": 30,
     "metadata": {},
     "output_type": "execute_result"
    }
   ],
   "source": [
    "# by panel\n",
    "panel_demo_dict['prim']"
   ]
  },
  {
   "cell_type": "markdown",
   "metadata": {},
   "source": [
    "### Metastasis"
   ]
  },
  {
   "cell_type": "code",
   "execution_count": 31,
   "metadata": {},
   "outputs": [
    {
     "data": {
      "text/plain": [
       "2228"
      ]
     },
     "execution_count": 31,
     "metadata": {},
     "output_type": "execute_result"
    }
   ],
   "source": [
    "# total metastasis\n",
    "len(mut_dict['met'].groupby('PATIENT_ID').nunique())"
   ]
  },
  {
   "cell_type": "code",
   "execution_count": 32,
   "metadata": {},
   "outputs": [],
   "source": [
    "race_demo_dict['met'] = mut_dict['met'].groupby('PRIMARY_RACE')['PATIENT_ID'].nunique()\n",
    "panel_demo_dict['met'] = mut_dict['met'].groupby('SEQ_ASSAY_ID')['PATIENT_ID'].nunique()"
   ]
  },
  {
   "cell_type": "code",
   "execution_count": 33,
   "metadata": {},
   "outputs": [
    {
     "data": {
      "text/plain": [
       "PRIMARY_RACE\n",
       "Asian     132\n",
       "Black     193\n",
       "White    1903\n",
       "Name: PATIENT_ID, dtype: int64"
      ]
     },
     "execution_count": 33,
     "metadata": {},
     "output_type": "execute_result"
    }
   ],
   "source": [
    "# by race\n",
    "race_demo_dict['met']"
   ]
  },
  {
   "cell_type": "code",
   "execution_count": 34,
   "metadata": {},
   "outputs": [
    {
     "data": {
      "text/plain": [
       "SEQ_ASSAY_ID\n",
       "DFCI-ONCOPANEL-1       63\n",
       "DFCI-ONCOPANEL-2      254\n",
       "DFCI-ONCOPANEL-3      181\n",
       "DFCI-ONCOPANEL-3.1    117\n",
       "MSK-IMPACT-341        199\n",
       "MSK-IMPACT-410        491\n",
       "MSK-IMPACT-468        999\n",
       "Name: PATIENT_ID, dtype: int64"
      ]
     },
     "execution_count": 34,
     "metadata": {},
     "output_type": "execute_result"
    }
   ],
   "source": [
    "# by panel\n",
    "panel_demo_dict['met']"
   ]
  },
  {
   "cell_type": "markdown",
   "metadata": {},
   "source": [
    "## Calculate mutation frequency (for all genes)"
   ]
  },
  {
   "cell_type": "code",
   "execution_count": 35,
   "metadata": {},
   "outputs": [],
   "source": [
    "# remove patients with duplicate tumors sequenced by multiple panels\n",
    "# choose sample sequenced by larger panel\n",
    "\n",
    "# mut_tbl: mutation table in MAF format\n",
    "def remove_duplicates(mut_tbl):\n",
    "    # group by patient and panel to find the unique sample IDs\n",
    "    df = mut_tbl.groupby(['PATIENT_ID', 'SEQ_ASSAY_ID'])['SAMPLE_ID'].unique().to_frame()\n",
    "    # choose the last panel for each patient\n",
    "    samples = np.concatenate(df.groupby('PATIENT_ID').tail(1)['SAMPLE_ID'])\n",
    "    # filter out the duplicates\n",
    "    cleaned_mut = mut_tbl[mut_tbl['SAMPLE_ID'].isin(samples)]\n",
    "    \n",
    "    return cleaned_mut"
   ]
  },
  {
   "cell_type": "code",
   "execution_count": 36,
   "metadata": {},
   "outputs": [],
   "source": [
    "# count patients sequenced by each panel by race\n",
    "\n",
    "# mut_tbl: mutation table in MAF format\n",
    "# combined_panels: table with genes as rows, lists of panels that sequenced that gene as column\n",
    "# race_category: name of race column\n",
    "def calc_seq_counts(mut_tbl, combined_panels, race_category):\n",
    "    # first remove duplicates to get accurate sequenced count\n",
    "    mut_tbl = remove_duplicates(mut_tbl)\n",
    "    \n",
    "    # count number of patients for each panel\n",
    "    panel_race_counts = mut_tbl.groupby(['SEQ_ASSAY_ID', race_category])[\n",
    "        'PATIENT_ID'].nunique().reset_index().pivot_table(index='SEQ_ASSAY_ID', columns=race_category, \n",
    "                                                          values='PATIENT_ID', fill_value=0)\n",
    "    # count number of patients by race sequenced for one gene\n",
    "    def sum_gene_counts(row):\n",
    "        count = np.sum(panel_race_counts[panel_race_counts.index.isin(row)], axis=0)\n",
    "        return count\n",
    "    \n",
    "    # apply function to all genes\n",
    "    seq_cnt = combined_panels['SEQ_ASSAY_ID'].apply(sum_gene_counts)\n",
    "    \n",
    "    return seq_cnt\n",
    "#     return panel_race_counts"
   ]
  },
  {
   "cell_type": "code",
   "execution_count": 37,
   "metadata": {},
   "outputs": [],
   "source": [
    "# calculate mutation frequency\n",
    "\n",
    "# mut_tbl: MAF mutation table\n",
    "# var_mut_tbl: mut_tbl filtered by variants we excluded\n",
    "# combined_panels: table with genes as rows, lists of panels that sequenced that gene as column\n",
    "# race_category: name of race column\n",
    "def calc_mut_freq(mut_tbl, var_mut_tbl, combined_panels, race_category):\n",
    "    \n",
    "    # calculate number of patients sequenced in each race category for all genes in panels\n",
    "    seq_cnt = calc_seq_counts(mut_tbl, combined_panels, race_category)\n",
    "    \n",
    "    # remove duplicates before counting mutations\n",
    "    var_mut_tbl = remove_duplicates(var_mut_tbl)\n",
    "    \n",
    "    # calculate number of patients w/ mutation in each race category for each gene in MAF table\n",
    "    mut_cnt = var_mut_tbl.groupby(['Hugo_Symbol', race_category])['PATIENT_ID'].nunique().reset_index().pivot_table(\n",
    "        index='Hugo_Symbol', columns=race_category, values='PATIENT_ID', fill_value=0)\n",
    "    \n",
    "    mut_seq = mut_cnt.join(seq_cnt, how='outer', lsuffix='_mut', rsuffix='_seq')\n",
    "    \n",
    "    # find any missing genes that weren't included in panel but still had mutations\n",
    "    # don't know why these are included in the panel in GENIE but not elsewhere\n",
    "    # total for DFCI is especially wrong (looking directly at the genomic_information.txt file)\n",
    "    missing = mut_seq[mut_seq['Asian_seq'].isna()]\n",
    "    \n",
    "    # remove missing genes\n",
    "    mut_seq = mut_seq[~mut_seq.index.isin(missing.index)]\n",
    "    \n",
    "#     # fill NaN mutation values with zero\n",
    "#     mut_seq = mut_seq.fillna(0)\n",
    "\n",
    "    # remove NaN mutation values (genes that were sequenced but have no mutation counts)\n",
    "    mut_seq = mut_seq.dropna()\n",
    "    \n",
    "    # compute mutation frequency\n",
    "    mut_columns = mut_seq.columns[mut_seq.columns.str.contains('_mut')]\n",
    "    seq_columns = mut_seq.columns[mut_seq.columns.str.contains('_seq')]\n",
    "    \n",
    "    mut_freq = mut_seq[mut_columns] / mut_seq[seq_columns].values * 100\n",
    "    mut_freq.columns = mut_freq.columns.str.replace('_mut', '')\n",
    "    \n",
    "    return mut_seq, mut_freq\n",
    "    "
   ]
  },
  {
   "cell_type": "code",
   "execution_count": 38,
   "metadata": {},
   "outputs": [],
   "source": [
    "mut_freq_dict = {}\n",
    "mut_seq_dict = {}"
   ]
  },
  {
   "cell_type": "code",
   "execution_count": 39,
   "metadata": {},
   "outputs": [],
   "source": [
    "for (k1, v1), (k2, v2) in zip(mut_dict.items(), var_mut_dict.items()):\n",
    "    mut_seq_dict[k1], mut_freq_dict[k1] = calc_mut_freq(v1, v2, combined_panels, 'PRIMARY_RACE')"
   ]
  },
  {
   "cell_type": "markdown",
   "metadata": {},
   "source": [
    "## Significance testing functions"
   ]
  },
  {
   "cell_type": "markdown",
   "metadata": {},
   "source": [
    "### Fisher's Test and FDR"
   ]
  },
  {
   "cell_type": "code",
   "execution_count": 40,
   "metadata": {},
   "outputs": [],
   "source": [
    "# performs Fisher's exact test for one gene between two races and calculates 95% confidence interval\n",
    "\n",
    "# row: gene row\n",
    "# group1: name of first race\n",
    "# group2: name of second race\n",
    "def fisher_one_gene(row, group1, group2):\n",
    "    seq_group1 = row[group1 + '_seq']\n",
    "    seq_group2 = row[group2 + '_seq']\n",
    "    \n",
    "    mut_group1 = row[group1 + '_mut']\n",
    "    mut_group2 = row[group2 + '_mut']\n",
    "    \n",
    "    a = mut_group1\n",
    "    b = mut_group2\n",
    "    c = seq_group1 - a\n",
    "    d = seq_group2 - b\n",
    "    \n",
    "    cont_tbl = pd.DataFrame(np.array([[a, c],\n",
    "                                     [b, d]]), index=[group1, group2], columns=['Mutation', 'No Mutation'])\n",
    "    \n",
    "    odds_ratio, p_val = scipy.stats.fisher_exact(cont_tbl)\n",
    "    \n",
    "    # calculate 95% confidence interval    \n",
    "    SE = np.sqrt(1/a + 1/c + 1/b + 1/d) \n",
    "    \n",
    "    c1 = round(odds_ratio * np.exp(-1.96 * SE), 3)\n",
    "    c2 = round(odds_ratio * np.exp(1.96 * SE), 3)\n",
    "    \n",
    "    CI = (c1, c2)\n",
    "    \n",
    "    return cont_tbl, odds_ratio, p_val, CI"
   ]
  },
  {
   "cell_type": "code",
   "execution_count": 41,
   "metadata": {},
   "outputs": [],
   "source": [
    "# performs Fisher's exact test for all genes between two races and computes FDR\n",
    "\n",
    "# mut_tbl: table with genes as rows and *_mut/*_seq counts as columns (* is name of race group)\n",
    "# group1: name of first race\n",
    "# group2: name of second race\n",
    "\n",
    "def fisher_all_genes(mut_tbl, group1, group2):\n",
    "    fisher = mut_tbl.apply(lambda x: fisher_one_gene(x, group1, group2), axis=1)\n",
    "    \n",
    "    fisher_tbl = pd.DataFrame(fisher.to_list(), index=fisher.index).iloc[:,1:].rename(\n",
    "        columns={1:group1 + '_' + group2 + '_odds_ratio', \n",
    "                 2:group1 + '_' + group2 + '_pval', \n",
    "                 3:group1 + '_' + group2 + '_CI'})\n",
    "    fdr = ssm.multipletests(fisher_tbl[group1 + '_' + group2 + '_pval'], method='fdr_bh')[1]\n",
    "    fisher_tbl.insert(2, group1 + '_' + group2 + '_fdr', fdr)\n",
    "    \n",
    "    return fisher_tbl"
   ]
  },
  {
   "cell_type": "code",
   "execution_count": 42,
   "metadata": {},
   "outputs": [],
   "source": [
    "# performs Fisher's exact test for all race comparisons, and computes FDR\n",
    "\n",
    "# mut_tbl: table with genes as rows and *_mut/*_seq counts as columns (* is name of race group)\n",
    "# groups: list of tuples with race comparisons\n",
    "def fisher_fdr_all_groups(mut_tbl, groups):\n",
    "    fisher_tbl = pd.DataFrame()\n",
    "    for group in groups:\n",
    "        fisher_tbl = pd.concat([fisher_tbl, fisher_all_genes(mut_tbl, group[0], group[1])], axis=1)\n",
    "\n",
    "    return fisher_tbl"
   ]
  },
  {
   "cell_type": "code",
   "execution_count": 43,
   "metadata": {},
   "outputs": [],
   "source": [
    "# change if doing different comparisons\n",
    "groups = [('Black', 'White'), \n",
    "          ('Black', 'Asian'), \n",
    "          ('Asian', 'White')]"
   ]
  },
  {
   "cell_type": "markdown",
   "metadata": {},
   "source": [
    "### Significant genes"
   ]
  },
  {
   "cell_type": "code",
   "execution_count": 44,
   "metadata": {},
   "outputs": [],
   "source": [
    "# finds significant genes based on FDR cutoff specified\n",
    "\n",
    "# pvals: table of p-values, genes as rows, race comparisons as columns\n",
    "# mut_freq: table of mutation frequencies, genes as rows, races as columns\n",
    "# fdr_cutoff: float\n",
    "def find_sig_genes(pvals, mut_freq, fdr_cutoff):\n",
    "    cols = pvals.columns[pvals.columns.str.contains('fdr')]\n",
    "    pval_cols = pvals[cols]    \n",
    "    \n",
    "    sig_pval = pval_cols[(pval_cols <= fdr_cutoff).any(1)]\n",
    "    sig_genes = sig_pval.index\n",
    "    sig_pval = pvals.loc[sig_genes]\n",
    "    \n",
    "    sig_pct = mut_freq.loc[sig_genes]\n",
    "    \n",
    "    return sig_genes.to_list(), sig_pval, sig_pct"
   ]
  },
  {
   "cell_type": "code",
   "execution_count": 45,
   "metadata": {},
   "outputs": [],
   "source": [
    "# finds significant genes for all groups\n",
    "\n",
    "# race_pairs: list of tuples with race comparisons\n",
    "# pvals: table of p-values, genes as rows, race comparisons as columns\n",
    "# mut_freq: table of mutation frequencies, genes as rows, races as columns\n",
    "# fdr_cutoff: float\n",
    "def find_sig_genes_groups(race_pairs, pvals, mut_freq, fdr_cutoff):\n",
    "    sig_pval_dict = {}\n",
    "    sig_freq_dict = {}\n",
    "    sig_gene_list = []\n",
    "    for pair in race_pairs:\n",
    "        pair_cols = ['_'.join(pair) + '_pval', '_'.join(pair) + '_fdr', \n",
    "                     '_'.join(pair) + '_odds_ratio', '_'.join(pair) + '_CI']\n",
    "        pair_pval = pvals[pair_cols]\n",
    "        pair_mut_freq = mut_freq[[pair[0], pair[1]]]\n",
    "        sig_genes, sig_pval_dict[pair], sig_freq_dict[pair] = find_sig_genes(pair_pval, pair_mut_freq, fdr_cutoff)\n",
    "        sig_gene_list = sig_gene_list + sig_genes\n",
    "    \n",
    "    # remove duplicates\n",
    "    sig_gene_list = set(sig_gene_list)\n",
    "    \n",
    "    return sig_gene_list, sig_pval_dict, sig_freq_dict"
   ]
  },
  {
   "cell_type": "markdown",
   "metadata": {},
   "source": [
    "## Composition plot functions"
   ]
  },
  {
   "cell_type": "markdown",
   "metadata": {},
   "source": [
    "### Variant Composition Plots"
   ]
  },
  {
   "cell_type": "code",
   "execution_count": 46,
   "metadata": {},
   "outputs": [],
   "source": [
    "# calculate variant composition for genes of interest\n",
    "\n",
    "# mut_tbl: MAF table\n",
    "# genes: list of genes of interest\n",
    "def variant_comp(mut_tbl, genes):\n",
    "    # filter mut_tbl by genes of interest\n",
    "    filt_mut = mut_tbl[mut_tbl['Hugo_Symbol'].isin(genes)]\n",
    "    comp_mut = filt_mut.groupby(['Hugo_Symbol', 'Variant_Classification'])['PATIENT_ID'].nunique().reset_index().pivot_table(\n",
    "        index='Hugo_Symbol', columns='Variant_Classification', values='PATIENT_ID', fill_value=0)\n",
    "    pct_mut = comp_mut.div(comp_mut.sum(axis=1), axis=0) * 100\n",
    "    \n",
    "    return comp_mut, pct_mut"
   ]
  },
  {
   "cell_type": "markdown",
   "metadata": {},
   "source": [
    "### Panel Composition Plots"
   ]
  },
  {
   "cell_type": "code",
   "execution_count": 47,
   "metadata": {},
   "outputs": [],
   "source": [
    "# calculate panel composition for genes of interest\n",
    "\n",
    "# mut_tbl: MAF table\n",
    "# genes: list of genes of interest\n",
    "def panel_comp(mut_tbl, genes):\n",
    "    # filter mut_tbl by genes of interest\n",
    "    filt_mut = mut_tbl[mut_tbl['Hugo_Symbol'].isin(genes)]\n",
    "    comp_mut = filt_mut.groupby(['Hugo_Symbol', 'SEQ_ASSAY_ID'])['PATIENT_ID'].nunique().reset_index().pivot_table(\n",
    "        index='Hugo_Symbol', columns='SEQ_ASSAY_ID', values='PATIENT_ID', fill_value=0)\n",
    "    pct_mut = comp_mut.div(comp_mut.sum(axis=1), axis=0) * 100\n",
    "    \n",
    "    return comp_mut, pct_mut"
   ]
  },
  {
   "cell_type": "markdown",
   "metadata": {},
   "source": [
    "## Top Mutations"
   ]
  },
  {
   "cell_type": "markdown",
   "metadata": {},
   "source": [
    "### Find genes most frequently altered overall and by race"
   ]
  },
  {
   "cell_type": "code",
   "execution_count": 48,
   "metadata": {},
   "outputs": [],
   "source": [
    "# calculate mutations most common in all patients, count number of patients with that mutation\n",
    "\n",
    "# mut_tbl: MAF table\n",
    "def common_mut_overall(mut_tbl):\n",
    "    common_mut = mut_tbl.groupby('Hugo_Symbol')['PATIENT_ID'].nunique().sort_values(ascending=False)\n",
    "    \n",
    "    return common_mut"
   ]
  },
  {
   "cell_type": "code",
   "execution_count": 49,
   "metadata": {},
   "outputs": [],
   "source": [
    "# most common mutations for each race\n",
    "\n",
    "# mut_tbl: MAF table\n",
    "# race_category: race column name\n",
    "# races: list of races of interest\n",
    "def common_mut_race(mut_tbl, race_category, races):    \n",
    "    common_dict = {}\n",
    "    \n",
    "    for race in races:\n",
    "        race_tbl = mut_tbl[mut_tbl[race_category] == race]\n",
    "        common_tbl = common_mut_overall(race_tbl)\n",
    "        common_dict[race] = common_tbl\n",
    "        \n",
    "    return common_dict"
   ]
  },
  {
   "cell_type": "code",
   "execution_count": 50,
   "metadata": {},
   "outputs": [],
   "source": [
    "common_mut_dict = {}"
   ]
  },
  {
   "cell_type": "code",
   "execution_count": 51,
   "metadata": {},
   "outputs": [],
   "source": [
    "for key, value in var_mut_dict.items():\n",
    "    common_mut_dict[key] = common_mut_overall(value)"
   ]
  },
  {
   "cell_type": "code",
   "execution_count": 52,
   "metadata": {},
   "outputs": [],
   "source": [
    "common_mut_race_dict = {}"
   ]
  },
  {
   "cell_type": "code",
   "execution_count": 53,
   "metadata": {},
   "outputs": [],
   "source": [
    "for key, value in var_mut_dict.items():\n",
    "    common_mut_race_dict[key] = common_mut_race(value, 'PRIMARY_RACE', ['Asian', 'Black', 'White'])   "
   ]
  },
  {
   "cell_type": "markdown",
   "metadata": {},
   "source": [
    "### Top 20 mutations overall"
   ]
  },
  {
   "cell_type": "code",
   "execution_count": 54,
   "metadata": {},
   "outputs": [
    {
     "data": {
      "text/plain": [
       "Hugo_Symbol\n",
       "TP53      1195\n",
       "PIK3CA    1088\n",
       "GATA3      413\n",
       "CDH1       380\n",
       "MAP3K1     225\n",
       "PTEN       211\n",
       "ARID1A     157\n",
       "KMT2C      154\n",
       "AKT1       132\n",
       "CBFB       131\n",
       "KMT2D      124\n",
       "TBX3       117\n",
       "BRCA2      112\n",
       "NF1        108\n",
       "MAP2K4     107\n",
       "RUNX1      104\n",
       "RB1         88\n",
       "NOTCH1      87\n",
       "FOXA1       84\n",
       "KMT2A       81\n",
       "Name: PATIENT_ID, dtype: int64"
      ]
     },
     "execution_count": 54,
     "metadata": {},
     "output_type": "execute_result"
    }
   ],
   "source": [
    "# top 20 primary\n",
    "common_mut_dict['prim'].head(20)"
   ]
  },
  {
   "cell_type": "code",
   "execution_count": 55,
   "metadata": {},
   "outputs": [
    {
     "data": {
      "text/plain": [
       "Hugo_Symbol\n",
       "TP53      966\n",
       "PIK3CA    799\n",
       "CDH1      353\n",
       "GATA3     313\n",
       "ESR1      308\n",
       "MAP3K1    185\n",
       "ARID1A    168\n",
       "KMT2C     155\n",
       "PTEN      154\n",
       "NF1       142\n",
       "KMT2D     138\n",
       "AKT1      125\n",
       "BRCA2     110\n",
       "FAT1      103\n",
       "TBX3      103\n",
       "FOXA1     101\n",
       "ATM        98\n",
       "ERBB2      96\n",
       "MAP2K4     92\n",
       "RB1        89\n",
       "Name: PATIENT_ID, dtype: int64"
      ]
     },
     "execution_count": 55,
     "metadata": {},
     "output_type": "execute_result"
    }
   ],
   "source": [
    "# top 20 metastatic\n",
    "common_mut_dict['met'].head(20)"
   ]
  },
  {
   "cell_type": "code",
   "execution_count": 56,
   "metadata": {},
   "outputs": [],
   "source": [
    "top_mut_seq_dict = {}\n",
    "top_mut_freq_dict = {}"
   ]
  },
  {
   "cell_type": "code",
   "execution_count": 57,
   "metadata": {},
   "outputs": [],
   "source": [
    "for key, value in common_mut_dict.items():\n",
    "    top_20 = value.head(20).index\n",
    "    top_mut_seq_dict[key] = mut_seq_dict[key].loc[top_20]\n",
    "    top_mut_freq_dict[key] = mut_freq_dict[key].loc[top_20]"
   ]
  },
  {
   "cell_type": "markdown",
   "metadata": {},
   "source": [
    "## TumorPortal genes"
   ]
  },
  {
   "cell_type": "markdown",
   "metadata": {},
   "source": [
    "### Subset mutation data by tumor portal genes"
   ]
  },
  {
   "cell_type": "code",
   "execution_count": 58,
   "metadata": {},
   "outputs": [],
   "source": [
    "# load tumor portal genes\n",
    "genes = pd.read_csv('R_script/cleaned_data/sig_mut_genes_breast.txt', sep='\\t')"
   ]
  },
  {
   "cell_type": "code",
   "execution_count": 59,
   "metadata": {},
   "outputs": [],
   "source": [
    "# remove TumorPortal genes that are not in data\n",
    "prim_genes = genes[genes['Hugo_Symbol'].isin(mut_seq_dict['prim'].index)]  \n",
    "met_genes = genes[genes['Hugo_Symbol'].isin(mut_seq_dict['met'].index)]"
   ]
  },
  {
   "cell_type": "code",
   "execution_count": 60,
   "metadata": {},
   "outputs": [
    {
     "name": "stdout",
     "output_type": "stream",
     "text": [
      "32 26 26\n"
     ]
    }
   ],
   "source": [
    "# check genes are same among prim and met data\n",
    "# if numbers are different, need to change downstream analysis\n",
    "print(len(genes), len(prim_genes), len(met_genes))"
   ]
  },
  {
   "cell_type": "code",
   "execution_count": 61,
   "metadata": {},
   "outputs": [
    {
     "data": {
      "text/html": [
       "<div>\n",
       "<style scoped>\n",
       "    .dataframe tbody tr th:only-of-type {\n",
       "        vertical-align: middle;\n",
       "    }\n",
       "\n",
       "    .dataframe tbody tr th {\n",
       "        vertical-align: top;\n",
       "    }\n",
       "\n",
       "    .dataframe thead th {\n",
       "        text-align: right;\n",
       "    }\n",
       "</style>\n",
       "<table border=\"1\" class=\"dataframe\">\n",
       "  <thead>\n",
       "    <tr style=\"text-align: right;\">\n",
       "      <th></th>\n",
       "      <th>Hugo_Symbol</th>\n",
       "    </tr>\n",
       "  </thead>\n",
       "  <tbody>\n",
       "    <tr>\n",
       "      <th>0</th>\n",
       "      <td>True</td>\n",
       "    </tr>\n",
       "    <tr>\n",
       "      <th>1</th>\n",
       "      <td>True</td>\n",
       "    </tr>\n",
       "    <tr>\n",
       "      <th>2</th>\n",
       "      <td>True</td>\n",
       "    </tr>\n",
       "    <tr>\n",
       "      <th>3</th>\n",
       "      <td>True</td>\n",
       "    </tr>\n",
       "    <tr>\n",
       "      <th>5</th>\n",
       "      <td>True</td>\n",
       "    </tr>\n",
       "    <tr>\n",
       "      <th>6</th>\n",
       "      <td>True</td>\n",
       "    </tr>\n",
       "    <tr>\n",
       "      <th>7</th>\n",
       "      <td>True</td>\n",
       "    </tr>\n",
       "    <tr>\n",
       "      <th>8</th>\n",
       "      <td>True</td>\n",
       "    </tr>\n",
       "    <tr>\n",
       "      <th>9</th>\n",
       "      <td>True</td>\n",
       "    </tr>\n",
       "    <tr>\n",
       "      <th>10</th>\n",
       "      <td>True</td>\n",
       "    </tr>\n",
       "    <tr>\n",
       "      <th>11</th>\n",
       "      <td>True</td>\n",
       "    </tr>\n",
       "    <tr>\n",
       "      <th>12</th>\n",
       "      <td>True</td>\n",
       "    </tr>\n",
       "    <tr>\n",
       "      <th>13</th>\n",
       "      <td>True</td>\n",
       "    </tr>\n",
       "    <tr>\n",
       "      <th>14</th>\n",
       "      <td>True</td>\n",
       "    </tr>\n",
       "    <tr>\n",
       "      <th>15</th>\n",
       "      <td>True</td>\n",
       "    </tr>\n",
       "    <tr>\n",
       "      <th>16</th>\n",
       "      <td>True</td>\n",
       "    </tr>\n",
       "    <tr>\n",
       "      <th>17</th>\n",
       "      <td>True</td>\n",
       "    </tr>\n",
       "    <tr>\n",
       "      <th>19</th>\n",
       "      <td>True</td>\n",
       "    </tr>\n",
       "    <tr>\n",
       "      <th>20</th>\n",
       "      <td>True</td>\n",
       "    </tr>\n",
       "    <tr>\n",
       "      <th>21</th>\n",
       "      <td>True</td>\n",
       "    </tr>\n",
       "    <tr>\n",
       "      <th>22</th>\n",
       "      <td>True</td>\n",
       "    </tr>\n",
       "    <tr>\n",
       "      <th>24</th>\n",
       "      <td>True</td>\n",
       "    </tr>\n",
       "    <tr>\n",
       "      <th>25</th>\n",
       "      <td>True</td>\n",
       "    </tr>\n",
       "    <tr>\n",
       "      <th>27</th>\n",
       "      <td>True</td>\n",
       "    </tr>\n",
       "    <tr>\n",
       "      <th>28</th>\n",
       "      <td>True</td>\n",
       "    </tr>\n",
       "    <tr>\n",
       "      <th>29</th>\n",
       "      <td>True</td>\n",
       "    </tr>\n",
       "  </tbody>\n",
       "</table>\n",
       "</div>"
      ],
      "text/plain": [
       "    Hugo_Symbol\n",
       "0          True\n",
       "1          True\n",
       "2          True\n",
       "3          True\n",
       "5          True\n",
       "6          True\n",
       "7          True\n",
       "8          True\n",
       "9          True\n",
       "10         True\n",
       "11         True\n",
       "12         True\n",
       "13         True\n",
       "14         True\n",
       "15         True\n",
       "16         True\n",
       "17         True\n",
       "19         True\n",
       "20         True\n",
       "21         True\n",
       "22         True\n",
       "24         True\n",
       "25         True\n",
       "27         True\n",
       "28         True\n",
       "29         True"
      ]
     },
     "execution_count": 61,
     "metadata": {},
     "output_type": "execute_result"
    }
   ],
   "source": [
    "prim_genes == met_genes"
   ]
  },
  {
   "cell_type": "code",
   "execution_count": 62,
   "metadata": {},
   "outputs": [],
   "source": [
    "# from here assuming that Tumor Portal genes are the same in prim and met datasets\n",
    "# both prim and met have the same tumor portal genes of interest\n",
    "# if not all True in printouts above, need to modify code"
   ]
  },
  {
   "cell_type": "code",
   "execution_count": 63,
   "metadata": {},
   "outputs": [],
   "source": [
    "tp_mut_seq_dict = {}\n",
    "tp_mut_freq_dict = {}"
   ]
  },
  {
   "cell_type": "code",
   "execution_count": 64,
   "metadata": {},
   "outputs": [],
   "source": [
    "for (k1, v1), (k2, v2) in zip(mut_seq_dict.items(), mut_freq_dict.items()):\n",
    "    tp_mut_seq_dict[k1] = v1.loc[prim_genes.iloc[:,0]]\n",
    "    tp_mut_freq_dict[k1] = v2.loc[prim_genes.iloc[:,0]]"
   ]
  },
  {
   "cell_type": "markdown",
   "metadata": {},
   "source": [
    "## Top 20 + Tumor Portal Combined"
   ]
  },
  {
   "cell_type": "markdown",
   "metadata": {},
   "source": [
    "### Combine Top 20 + TP data together"
   ]
  },
  {
   "cell_type": "code",
   "execution_count": 65,
   "metadata": {},
   "outputs": [],
   "source": [
    "# use these for prevalence bar charts\n",
    "comb_mut_seq_dict = {}\n",
    "comb_mut_freq_dict = {}"
   ]
  },
  {
   "cell_type": "code",
   "execution_count": 66,
   "metadata": {},
   "outputs": [],
   "source": [
    "for (k1, v1), (k2, v2) in zip(top_mut_seq_dict.items(), tp_mut_seq_dict.items()):\n",
    "    comb_mut_seq_dict[k1] = pd.concat([v1, v2]).drop_duplicates()"
   ]
  },
  {
   "cell_type": "code",
   "execution_count": 67,
   "metadata": {},
   "outputs": [],
   "source": [
    "for (k1, v1), (k2, v2) in zip(top_mut_freq_dict.items(), tp_mut_freq_dict.items()):\n",
    "    comb_mut_freq_dict[k1] = pd.concat([v1, v2]).drop_duplicates()"
   ]
  },
  {
   "cell_type": "markdown",
   "metadata": {},
   "source": [
    "### Fisher's Test and FDR"
   ]
  },
  {
   "cell_type": "code",
   "execution_count": 68,
   "metadata": {},
   "outputs": [],
   "source": [
    "# outer join Top 20 primary and metastatic genes together for FDR calculation\n",
    "# so we can compare genes from both in FDR scatter plots"
   ]
  },
  {
   "cell_type": "code",
   "execution_count": 69,
   "metadata": {},
   "outputs": [
    {
     "data": {
      "text/plain": [
       "Index(['NOTCH1', 'KMT2A'], dtype='object', name='Hugo_Symbol')"
      ]
     },
     "execution_count": 69,
     "metadata": {},
     "output_type": "execute_result"
    }
   ],
   "source": [
    "# for visualization, these are the genes from Top 20 primary not in Top 20 metastasis\n",
    "comb_mut_seq_dict['prim'][~comb_mut_seq_dict['prim'].index.isin(comb_mut_seq_dict['met'].index)].index"
   ]
  },
  {
   "cell_type": "code",
   "execution_count": 70,
   "metadata": {},
   "outputs": [
    {
     "data": {
      "text/plain": [
       "Index(['ESR1', 'FAT1', 'ATM'], dtype='object', name='Hugo_Symbol')"
      ]
     },
     "execution_count": 70,
     "metadata": {},
     "output_type": "execute_result"
    }
   ],
   "source": [
    "comb_mut_seq_dict['met'][~comb_mut_seq_dict['met'].index.isin(comb_mut_seq_dict['prim'].index)].index"
   ]
  },
  {
   "cell_type": "code",
   "execution_count": 71,
   "metadata": {},
   "outputs": [],
   "source": [
    "comb_genes = comb_mut_seq_dict['prim'].index | comb_mut_seq_dict['met'].index"
   ]
  },
  {
   "cell_type": "code",
   "execution_count": 72,
   "metadata": {},
   "outputs": [],
   "source": [
    "comb_pm_mut_seq_dict = {}\n",
    "comb_pm_mut_freq_dict = {}"
   ]
  },
  {
   "cell_type": "code",
   "execution_count": 73,
   "metadata": {},
   "outputs": [],
   "source": [
    "for (k1, v1), (k2, v2) in zip(mut_seq_dict.items(), mut_freq_dict.items()):\n",
    "    comb_pm_mut_seq_dict[k1] = v1.loc[comb_genes]\n",
    "    comb_pm_mut_freq_dict[k1] = v2.loc[comb_genes]"
   ]
  },
  {
   "cell_type": "code",
   "execution_count": 74,
   "metadata": {},
   "outputs": [],
   "source": [
    "comb_pval_dict = {}"
   ]
  },
  {
   "cell_type": "code",
   "execution_count": 75,
   "metadata": {},
   "outputs": [
    {
     "name": "stderr",
     "output_type": "stream",
     "text": [
      "<ipython-input-40-ce1fee6a180c>:24: RuntimeWarning: divide by zero encountered in double_scalars\n",
      "  SE = np.sqrt(1/a + 1/c + 1/b + 1/d)\n",
      "<ipython-input-40-ce1fee6a180c>:27: RuntimeWarning: invalid value encountered in double_scalars\n",
      "  c2 = round(odds_ratio * np.exp(1.96 * SE), 3)\n",
      "<ipython-input-40-ce1fee6a180c>:26: RuntimeWarning: invalid value encountered in double_scalars\n",
      "  c1 = round(odds_ratio * np.exp(-1.96 * SE), 3)\n"
     ]
    }
   ],
   "source": [
    "for key, value in comb_pm_mut_seq_dict.items():\n",
    "    comb_pval_dict[key] = fisher_fdr_all_groups(value, groups)"
   ]
  },
  {
   "cell_type": "markdown",
   "metadata": {},
   "source": [
    "### Significant genes"
   ]
  },
  {
   "cell_type": "code",
   "execution_count": 76,
   "metadata": {},
   "outputs": [],
   "source": [
    "comb_sig_pval_dict = {}\n",
    "comb_sig_freq_dict = {}\n",
    "comb_sig_genes_dict = {}"
   ]
  },
  {
   "cell_type": "code",
   "execution_count": 77,
   "metadata": {},
   "outputs": [],
   "source": [
    "for (k1, v1), (k2, v2) in zip(comb_pval_dict.items(), comb_pm_mut_freq_dict.items()):\n",
    "    comb_sig_genes_dict[k1], comb_sig_pval_dict[k1], comb_sig_freq_dict[k1] = find_sig_genes_groups(\n",
    "        groups, v1, v2, 0.05)"
   ]
  },
  {
   "cell_type": "markdown",
   "metadata": {},
   "source": [
    "#### Primary"
   ]
  },
  {
   "cell_type": "code",
   "execution_count": 78,
   "metadata": {},
   "outputs": [
    {
     "data": {
      "text/plain": [
       "{('Black',\n",
       "  'White'):              Black_White_pval  Black_White_fdr  Black_White_odds_ratio  \\\n",
       " Hugo_Symbol                                                              \n",
       " CDH1             1.785880e-03     3.125290e-02                0.488812   \n",
       " TP53             9.622215e-13     3.367775e-11                2.524973   \n",
       " \n",
       "              Black_White_CI  \n",
       " Hugo_Symbol                  \n",
       " CDH1         (0.306, 0.782)  \n",
       " TP53         (1.951, 3.268)  ,\n",
       " ('Black',\n",
       "  'Asian'):              Black_Asian_pval  Black_Asian_fdr  Black_Asian_odds_ratio  \\\n",
       " Hugo_Symbol                                                              \n",
       " TP53                  0.00038         0.013313                1.959872   \n",
       " \n",
       "             Black_Asian_CI  \n",
       " Hugo_Symbol                 \n",
       " TP53         (1.352, 2.84)  ,\n",
       " ('Asian',\n",
       "  'White'): Empty DataFrame\n",
       " Columns: [Asian_White_pval, Asian_White_fdr, Asian_White_odds_ratio, Asian_White_CI]\n",
       " Index: []}"
      ]
     },
     "execution_count": 78,
     "metadata": {},
     "output_type": "execute_result"
    }
   ],
   "source": [
    "comb_sig_pval_dict['prim']"
   ]
  },
  {
   "cell_type": "code",
   "execution_count": 79,
   "metadata": {},
   "outputs": [
    {
     "data": {
      "text/plain": [
       "{('Black',\n",
       "  'White'): PRIMARY_RACE      Black      White\n",
       " Hugo_Symbol                       \n",
       " CDH1           7.407407  14.064411\n",
       " TP53          61.111111  38.361190,\n",
       " ('Black',\n",
       "  'Asian'): PRIMARY_RACE      Black  Asian\n",
       " Hugo_Symbol                   \n",
       " TP53          61.111111   44.5,\n",
       " ('Asian',\n",
       "  'White'): Empty DataFrame\n",
       " Columns: [Asian, White]\n",
       " Index: []}"
      ]
     },
     "execution_count": 79,
     "metadata": {},
     "output_type": "execute_result"
    }
   ],
   "source": [
    "comb_sig_freq_dict['prim']"
   ]
  },
  {
   "cell_type": "code",
   "execution_count": 80,
   "metadata": {},
   "outputs": [
    {
     "data": {
      "text/html": [
       "<div>\n",
       "<style scoped>\n",
       "    .dataframe tbody tr th:only-of-type {\n",
       "        vertical-align: middle;\n",
       "    }\n",
       "\n",
       "    .dataframe tbody tr th {\n",
       "        vertical-align: top;\n",
       "    }\n",
       "\n",
       "    .dataframe thead th {\n",
       "        text-align: right;\n",
       "    }\n",
       "</style>\n",
       "<table border=\"1\" class=\"dataframe\">\n",
       "  <thead>\n",
       "    <tr style=\"text-align: right;\">\n",
       "      <th>PRIMARY_RACE</th>\n",
       "      <th>Asian</th>\n",
       "      <th>Black</th>\n",
       "      <th>White</th>\n",
       "    </tr>\n",
       "    <tr>\n",
       "      <th>Hugo_Symbol</th>\n",
       "      <th></th>\n",
       "      <th></th>\n",
       "      <th></th>\n",
       "    </tr>\n",
       "  </thead>\n",
       "  <tbody>\n",
       "    <tr>\n",
       "      <th>TP53</th>\n",
       "      <td>44.5</td>\n",
       "      <td>61.111111</td>\n",
       "      <td>38.361190</td>\n",
       "    </tr>\n",
       "    <tr>\n",
       "      <th>CDH1</th>\n",
       "      <td>7.5</td>\n",
       "      <td>7.407407</td>\n",
       "      <td>14.064411</td>\n",
       "    </tr>\n",
       "  </tbody>\n",
       "</table>\n",
       "</div>"
      ],
      "text/plain": [
       "PRIMARY_RACE  Asian      Black      White\n",
       "Hugo_Symbol                              \n",
       "TP53           44.5  61.111111  38.361190\n",
       "CDH1            7.5   7.407407  14.064411"
      ]
     },
     "execution_count": 80,
     "metadata": {},
     "output_type": "execute_result"
    }
   ],
   "source": [
    "comb_mut_freq_dict['prim'].loc[comb_sig_genes_dict['prim']]"
   ]
  },
  {
   "cell_type": "code",
   "execution_count": 81,
   "metadata": {},
   "outputs": [
    {
     "data": {
      "text/html": [
       "<div>\n",
       "<style scoped>\n",
       "    .dataframe tbody tr th:only-of-type {\n",
       "        vertical-align: middle;\n",
       "    }\n",
       "\n",
       "    .dataframe tbody tr th {\n",
       "        vertical-align: top;\n",
       "    }\n",
       "\n",
       "    .dataframe thead th {\n",
       "        text-align: right;\n",
       "    }\n",
       "</style>\n",
       "<table border=\"1\" class=\"dataframe\">\n",
       "  <thead>\n",
       "    <tr style=\"text-align: right;\">\n",
       "      <th></th>\n",
       "      <th>Black_White_odds_ratio</th>\n",
       "      <th>Black_White_pval</th>\n",
       "      <th>Black_White_fdr</th>\n",
       "      <th>Black_White_CI</th>\n",
       "      <th>Black_Asian_odds_ratio</th>\n",
       "      <th>Black_Asian_pval</th>\n",
       "      <th>Black_Asian_fdr</th>\n",
       "      <th>Black_Asian_CI</th>\n",
       "      <th>Asian_White_odds_ratio</th>\n",
       "      <th>Asian_White_pval</th>\n",
       "      <th>Asian_White_fdr</th>\n",
       "      <th>Asian_White_CI</th>\n",
       "    </tr>\n",
       "    <tr>\n",
       "      <th>Hugo_Symbol</th>\n",
       "      <th></th>\n",
       "      <th></th>\n",
       "      <th></th>\n",
       "      <th></th>\n",
       "      <th></th>\n",
       "      <th></th>\n",
       "      <th></th>\n",
       "      <th></th>\n",
       "      <th></th>\n",
       "      <th></th>\n",
       "      <th></th>\n",
       "      <th></th>\n",
       "    </tr>\n",
       "  </thead>\n",
       "  <tbody>\n",
       "    <tr>\n",
       "      <th>TP53</th>\n",
       "      <td>2.524973</td>\n",
       "      <td>9.622215e-13</td>\n",
       "      <td>3.367775e-11</td>\n",
       "      <td>(1.951, 3.268)</td>\n",
       "      <td>1.959872</td>\n",
       "      <td>0.00038</td>\n",
       "      <td>0.013313</td>\n",
       "      <td>(1.352, 2.84)</td>\n",
       "      <td>1.288336</td>\n",
       "      <td>0.096782</td>\n",
       "      <td>0.531915</td>\n",
       "      <td>(0.964, 1.723)</td>\n",
       "    </tr>\n",
       "    <tr>\n",
       "      <th>CDH1</th>\n",
       "      <td>0.488812</td>\n",
       "      <td>1.785880e-03</td>\n",
       "      <td>3.125290e-02</td>\n",
       "      <td>(0.306, 0.782)</td>\n",
       "      <td>0.986667</td>\n",
       "      <td>1.00000</td>\n",
       "      <td>1.000000</td>\n",
       "      <td>(0.492, 1.979)</td>\n",
       "      <td>0.495417</td>\n",
       "      <td>0.007133</td>\n",
       "      <td>0.249644</td>\n",
       "      <td>(0.289, 0.849)</td>\n",
       "    </tr>\n",
       "  </tbody>\n",
       "</table>\n",
       "</div>"
      ],
      "text/plain": [
       "             Black_White_odds_ratio  Black_White_pval  Black_White_fdr  \\\n",
       "Hugo_Symbol                                                              \n",
       "TP53                       2.524973      9.622215e-13     3.367775e-11   \n",
       "CDH1                       0.488812      1.785880e-03     3.125290e-02   \n",
       "\n",
       "             Black_White_CI  Black_Asian_odds_ratio  Black_Asian_pval  \\\n",
       "Hugo_Symbol                                                             \n",
       "TP53         (1.951, 3.268)                1.959872           0.00038   \n",
       "CDH1         (0.306, 0.782)                0.986667           1.00000   \n",
       "\n",
       "             Black_Asian_fdr  Black_Asian_CI  Asian_White_odds_ratio  \\\n",
       "Hugo_Symbol                                                            \n",
       "TP53                0.013313   (1.352, 2.84)                1.288336   \n",
       "CDH1                1.000000  (0.492, 1.979)                0.495417   \n",
       "\n",
       "             Asian_White_pval  Asian_White_fdr  Asian_White_CI  \n",
       "Hugo_Symbol                                                     \n",
       "TP53                 0.096782         0.531915  (0.964, 1.723)  \n",
       "CDH1                 0.007133         0.249644  (0.289, 0.849)  "
      ]
     },
     "execution_count": 81,
     "metadata": {},
     "output_type": "execute_result"
    }
   ],
   "source": [
    "comb_pval_dict['prim'].loc[comb_sig_genes_dict['prim']]"
   ]
  },
  {
   "cell_type": "markdown",
   "metadata": {},
   "source": [
    "#### Asian vs White"
   ]
  },
  {
   "cell_type": "code",
   "execution_count": 82,
   "metadata": {},
   "outputs": [
    {
     "data": {
      "text/html": [
       "<div>\n",
       "<style scoped>\n",
       "    .dataframe tbody tr th:only-of-type {\n",
       "        vertical-align: middle;\n",
       "    }\n",
       "\n",
       "    .dataframe tbody tr th {\n",
       "        vertical-align: top;\n",
       "    }\n",
       "\n",
       "    .dataframe thead th {\n",
       "        text-align: right;\n",
       "    }\n",
       "</style>\n",
       "<table border=\"1\" class=\"dataframe\">\n",
       "  <thead>\n",
       "    <tr style=\"text-align: right;\">\n",
       "      <th></th>\n",
       "      <th>Asian_White_pval</th>\n",
       "      <th>Asian_White_fdr</th>\n",
       "      <th>Asian_White_odds_ratio</th>\n",
       "      <th>Asian_White_CI</th>\n",
       "    </tr>\n",
       "    <tr>\n",
       "      <th>Hugo_Symbol</th>\n",
       "      <th></th>\n",
       "      <th></th>\n",
       "      <th></th>\n",
       "      <th></th>\n",
       "    </tr>\n",
       "  </thead>\n",
       "  <tbody>\n",
       "  </tbody>\n",
       "</table>\n",
       "</div>"
      ],
      "text/plain": [
       "Empty DataFrame\n",
       "Columns: [Asian_White_pval, Asian_White_fdr, Asian_White_odds_ratio, Asian_White_CI]\n",
       "Index: []"
      ]
     },
     "execution_count": 82,
     "metadata": {},
     "output_type": "execute_result"
    }
   ],
   "source": [
    "comb_sig_pval_dict['prim'][('Asian', 'White')]"
   ]
  },
  {
   "cell_type": "code",
   "execution_count": 83,
   "metadata": {},
   "outputs": [
    {
     "data": {
      "text/html": [
       "<div>\n",
       "<style scoped>\n",
       "    .dataframe tbody tr th:only-of-type {\n",
       "        vertical-align: middle;\n",
       "    }\n",
       "\n",
       "    .dataframe tbody tr th {\n",
       "        vertical-align: top;\n",
       "    }\n",
       "\n",
       "    .dataframe thead th {\n",
       "        text-align: right;\n",
       "    }\n",
       "</style>\n",
       "<table border=\"1\" class=\"dataframe\">\n",
       "  <thead>\n",
       "    <tr style=\"text-align: right;\">\n",
       "      <th>PRIMARY_RACE</th>\n",
       "      <th>Asian</th>\n",
       "      <th>White</th>\n",
       "    </tr>\n",
       "    <tr>\n",
       "      <th>Hugo_Symbol</th>\n",
       "      <th></th>\n",
       "      <th></th>\n",
       "    </tr>\n",
       "  </thead>\n",
       "  <tbody>\n",
       "  </tbody>\n",
       "</table>\n",
       "</div>"
      ],
      "text/plain": [
       "Empty DataFrame\n",
       "Columns: [Asian, White]\n",
       "Index: []"
      ]
     },
     "execution_count": 83,
     "metadata": {},
     "output_type": "execute_result"
    }
   ],
   "source": [
    "comb_sig_freq_dict['prim'][('Asian', 'White')]"
   ]
  },
  {
   "cell_type": "markdown",
   "metadata": {},
   "source": [
    "#### Black vs White"
   ]
  },
  {
   "cell_type": "code",
   "execution_count": 84,
   "metadata": {},
   "outputs": [
    {
     "data": {
      "text/html": [
       "<div>\n",
       "<style scoped>\n",
       "    .dataframe tbody tr th:only-of-type {\n",
       "        vertical-align: middle;\n",
       "    }\n",
       "\n",
       "    .dataframe tbody tr th {\n",
       "        vertical-align: top;\n",
       "    }\n",
       "\n",
       "    .dataframe thead th {\n",
       "        text-align: right;\n",
       "    }\n",
       "</style>\n",
       "<table border=\"1\" class=\"dataframe\">\n",
       "  <thead>\n",
       "    <tr style=\"text-align: right;\">\n",
       "      <th></th>\n",
       "      <th>Black_White_pval</th>\n",
       "      <th>Black_White_fdr</th>\n",
       "      <th>Black_White_odds_ratio</th>\n",
       "      <th>Black_White_CI</th>\n",
       "    </tr>\n",
       "    <tr>\n",
       "      <th>Hugo_Symbol</th>\n",
       "      <th></th>\n",
       "      <th></th>\n",
       "      <th></th>\n",
       "      <th></th>\n",
       "    </tr>\n",
       "  </thead>\n",
       "  <tbody>\n",
       "    <tr>\n",
       "      <th>CDH1</th>\n",
       "      <td>1.785880e-03</td>\n",
       "      <td>3.125290e-02</td>\n",
       "      <td>0.488812</td>\n",
       "      <td>(0.306, 0.782)</td>\n",
       "    </tr>\n",
       "    <tr>\n",
       "      <th>TP53</th>\n",
       "      <td>9.622215e-13</td>\n",
       "      <td>3.367775e-11</td>\n",
       "      <td>2.524973</td>\n",
       "      <td>(1.951, 3.268)</td>\n",
       "    </tr>\n",
       "  </tbody>\n",
       "</table>\n",
       "</div>"
      ],
      "text/plain": [
       "             Black_White_pval  Black_White_fdr  Black_White_odds_ratio  \\\n",
       "Hugo_Symbol                                                              \n",
       "CDH1             1.785880e-03     3.125290e-02                0.488812   \n",
       "TP53             9.622215e-13     3.367775e-11                2.524973   \n",
       "\n",
       "             Black_White_CI  \n",
       "Hugo_Symbol                  \n",
       "CDH1         (0.306, 0.782)  \n",
       "TP53         (1.951, 3.268)  "
      ]
     },
     "execution_count": 84,
     "metadata": {},
     "output_type": "execute_result"
    }
   ],
   "source": [
    "comb_sig_pval_dict['prim'][('Black', 'White')]"
   ]
  },
  {
   "cell_type": "code",
   "execution_count": 85,
   "metadata": {},
   "outputs": [
    {
     "data": {
      "text/html": [
       "<div>\n",
       "<style scoped>\n",
       "    .dataframe tbody tr th:only-of-type {\n",
       "        vertical-align: middle;\n",
       "    }\n",
       "\n",
       "    .dataframe tbody tr th {\n",
       "        vertical-align: top;\n",
       "    }\n",
       "\n",
       "    .dataframe thead th {\n",
       "        text-align: right;\n",
       "    }\n",
       "</style>\n",
       "<table border=\"1\" class=\"dataframe\">\n",
       "  <thead>\n",
       "    <tr style=\"text-align: right;\">\n",
       "      <th>PRIMARY_RACE</th>\n",
       "      <th>Black</th>\n",
       "      <th>White</th>\n",
       "    </tr>\n",
       "    <tr>\n",
       "      <th>Hugo_Symbol</th>\n",
       "      <th></th>\n",
       "      <th></th>\n",
       "    </tr>\n",
       "  </thead>\n",
       "  <tbody>\n",
       "    <tr>\n",
       "      <th>CDH1</th>\n",
       "      <td>7.407407</td>\n",
       "      <td>14.064411</td>\n",
       "    </tr>\n",
       "    <tr>\n",
       "      <th>TP53</th>\n",
       "      <td>61.111111</td>\n",
       "      <td>38.361190</td>\n",
       "    </tr>\n",
       "  </tbody>\n",
       "</table>\n",
       "</div>"
      ],
      "text/plain": [
       "PRIMARY_RACE      Black      White\n",
       "Hugo_Symbol                       \n",
       "CDH1           7.407407  14.064411\n",
       "TP53          61.111111  38.361190"
      ]
     },
     "execution_count": 85,
     "metadata": {},
     "output_type": "execute_result"
    }
   ],
   "source": [
    "comb_sig_freq_dict['prim'][('Black', 'White')]"
   ]
  },
  {
   "cell_type": "markdown",
   "metadata": {},
   "source": [
    "#### Black vs Asian"
   ]
  },
  {
   "cell_type": "code",
   "execution_count": 86,
   "metadata": {},
   "outputs": [
    {
     "data": {
      "text/html": [
       "<div>\n",
       "<style scoped>\n",
       "    .dataframe tbody tr th:only-of-type {\n",
       "        vertical-align: middle;\n",
       "    }\n",
       "\n",
       "    .dataframe tbody tr th {\n",
       "        vertical-align: top;\n",
       "    }\n",
       "\n",
       "    .dataframe thead th {\n",
       "        text-align: right;\n",
       "    }\n",
       "</style>\n",
       "<table border=\"1\" class=\"dataframe\">\n",
       "  <thead>\n",
       "    <tr style=\"text-align: right;\">\n",
       "      <th></th>\n",
       "      <th>Black_Asian_pval</th>\n",
       "      <th>Black_Asian_fdr</th>\n",
       "      <th>Black_Asian_odds_ratio</th>\n",
       "      <th>Black_Asian_CI</th>\n",
       "    </tr>\n",
       "    <tr>\n",
       "      <th>Hugo_Symbol</th>\n",
       "      <th></th>\n",
       "      <th></th>\n",
       "      <th></th>\n",
       "      <th></th>\n",
       "    </tr>\n",
       "  </thead>\n",
       "  <tbody>\n",
       "    <tr>\n",
       "      <th>TP53</th>\n",
       "      <td>0.00038</td>\n",
       "      <td>0.013313</td>\n",
       "      <td>1.959872</td>\n",
       "      <td>(1.352, 2.84)</td>\n",
       "    </tr>\n",
       "  </tbody>\n",
       "</table>\n",
       "</div>"
      ],
      "text/plain": [
       "             Black_Asian_pval  Black_Asian_fdr  Black_Asian_odds_ratio  \\\n",
       "Hugo_Symbol                                                              \n",
       "TP53                  0.00038         0.013313                1.959872   \n",
       "\n",
       "            Black_Asian_CI  \n",
       "Hugo_Symbol                 \n",
       "TP53         (1.352, 2.84)  "
      ]
     },
     "execution_count": 86,
     "metadata": {},
     "output_type": "execute_result"
    }
   ],
   "source": [
    "comb_sig_pval_dict['prim'][('Black', 'Asian')]"
   ]
  },
  {
   "cell_type": "code",
   "execution_count": 87,
   "metadata": {},
   "outputs": [
    {
     "data": {
      "text/html": [
       "<div>\n",
       "<style scoped>\n",
       "    .dataframe tbody tr th:only-of-type {\n",
       "        vertical-align: middle;\n",
       "    }\n",
       "\n",
       "    .dataframe tbody tr th {\n",
       "        vertical-align: top;\n",
       "    }\n",
       "\n",
       "    .dataframe thead th {\n",
       "        text-align: right;\n",
       "    }\n",
       "</style>\n",
       "<table border=\"1\" class=\"dataframe\">\n",
       "  <thead>\n",
       "    <tr style=\"text-align: right;\">\n",
       "      <th>PRIMARY_RACE</th>\n",
       "      <th>Black</th>\n",
       "      <th>Asian</th>\n",
       "    </tr>\n",
       "    <tr>\n",
       "      <th>Hugo_Symbol</th>\n",
       "      <th></th>\n",
       "      <th></th>\n",
       "    </tr>\n",
       "  </thead>\n",
       "  <tbody>\n",
       "    <tr>\n",
       "      <th>TP53</th>\n",
       "      <td>61.111111</td>\n",
       "      <td>44.5</td>\n",
       "    </tr>\n",
       "  </tbody>\n",
       "</table>\n",
       "</div>"
      ],
      "text/plain": [
       "PRIMARY_RACE      Black  Asian\n",
       "Hugo_Symbol                   \n",
       "TP53          61.111111   44.5"
      ]
     },
     "execution_count": 87,
     "metadata": {},
     "output_type": "execute_result"
    }
   ],
   "source": [
    "comb_sig_freq_dict['prim'][('Black', 'Asian')]"
   ]
  },
  {
   "cell_type": "markdown",
   "metadata": {},
   "source": [
    "#### Metastasis"
   ]
  },
  {
   "cell_type": "code",
   "execution_count": 88,
   "metadata": {},
   "outputs": [
    {
     "data": {
      "text/plain": [
       "{('Black',\n",
       "  'White'):              Black_White_pval  Black_White_fdr  Black_White_odds_ratio  \\\n",
       " Hugo_Symbol                                                              \n",
       " CDH1                 0.000454         0.015698                0.410685   \n",
       " PIK3CA               0.000897         0.015698                0.568906   \n",
       " \n",
       "              Black_White_CI  \n",
       " Hugo_Symbol                  \n",
       " CDH1         (0.239, 0.705)  \n",
       " PIK3CA       (0.405, 0.799)  ,\n",
       " ('Black',\n",
       "  'Asian'): Empty DataFrame\n",
       " Columns: [Black_Asian_pval, Black_Asian_fdr, Black_Asian_odds_ratio, Black_Asian_CI]\n",
       " Index: [],\n",
       " ('Asian',\n",
       "  'White'): Empty DataFrame\n",
       " Columns: [Asian_White_pval, Asian_White_fdr, Asian_White_odds_ratio, Asian_White_CI]\n",
       " Index: []}"
      ]
     },
     "execution_count": 88,
     "metadata": {},
     "output_type": "execute_result"
    }
   ],
   "source": [
    "comb_sig_pval_dict['met']"
   ]
  },
  {
   "cell_type": "code",
   "execution_count": 89,
   "metadata": {},
   "outputs": [
    {
     "data": {
      "text/plain": [
       "{('Black',\n",
       "  'White'): PRIMARY_RACE      Black      White\n",
       " Hugo_Symbol                       \n",
       " CDH1           7.772021  17.025749\n",
       " PIK3CA        24.870466  36.784025,\n",
       " ('Black',\n",
       "  'Asian'): Empty DataFrame\n",
       " Columns: [Black, Asian]\n",
       " Index: [],\n",
       " ('Asian',\n",
       "  'White'): Empty DataFrame\n",
       " Columns: [Asian, White]\n",
       " Index: []}"
      ]
     },
     "execution_count": 89,
     "metadata": {},
     "output_type": "execute_result"
    }
   ],
   "source": [
    "comb_sig_freq_dict['met']"
   ]
  },
  {
   "cell_type": "code",
   "execution_count": 90,
   "metadata": {},
   "outputs": [
    {
     "data": {
      "text/html": [
       "<div>\n",
       "<style scoped>\n",
       "    .dataframe tbody tr th:only-of-type {\n",
       "        vertical-align: middle;\n",
       "    }\n",
       "\n",
       "    .dataframe tbody tr th {\n",
       "        vertical-align: top;\n",
       "    }\n",
       "\n",
       "    .dataframe thead th {\n",
       "        text-align: right;\n",
       "    }\n",
       "</style>\n",
       "<table border=\"1\" class=\"dataframe\">\n",
       "  <thead>\n",
       "    <tr style=\"text-align: right;\">\n",
       "      <th>PRIMARY_RACE</th>\n",
       "      <th>Asian</th>\n",
       "      <th>Black</th>\n",
       "      <th>White</th>\n",
       "    </tr>\n",
       "    <tr>\n",
       "      <th>Hugo_Symbol</th>\n",
       "      <th></th>\n",
       "      <th></th>\n",
       "      <th></th>\n",
       "    </tr>\n",
       "  </thead>\n",
       "  <tbody>\n",
       "    <tr>\n",
       "      <th>PIK3CA</th>\n",
       "      <td>37.878788</td>\n",
       "      <td>24.870466</td>\n",
       "      <td>36.784025</td>\n",
       "    </tr>\n",
       "    <tr>\n",
       "      <th>CDH1</th>\n",
       "      <td>9.848485</td>\n",
       "      <td>7.772021</td>\n",
       "      <td>17.025749</td>\n",
       "    </tr>\n",
       "  </tbody>\n",
       "</table>\n",
       "</div>"
      ],
      "text/plain": [
       "PRIMARY_RACE      Asian      Black      White\n",
       "Hugo_Symbol                                  \n",
       "PIK3CA        37.878788  24.870466  36.784025\n",
       "CDH1           9.848485   7.772021  17.025749"
      ]
     },
     "execution_count": 90,
     "metadata": {},
     "output_type": "execute_result"
    }
   ],
   "source": [
    "comb_mut_freq_dict['met'].loc[comb_sig_genes_dict['met']]"
   ]
  },
  {
   "cell_type": "code",
   "execution_count": 91,
   "metadata": {},
   "outputs": [
    {
     "data": {
      "text/html": [
       "<div>\n",
       "<style scoped>\n",
       "    .dataframe tbody tr th:only-of-type {\n",
       "        vertical-align: middle;\n",
       "    }\n",
       "\n",
       "    .dataframe tbody tr th {\n",
       "        vertical-align: top;\n",
       "    }\n",
       "\n",
       "    .dataframe thead th {\n",
       "        text-align: right;\n",
       "    }\n",
       "</style>\n",
       "<table border=\"1\" class=\"dataframe\">\n",
       "  <thead>\n",
       "    <tr style=\"text-align: right;\">\n",
       "      <th></th>\n",
       "      <th>Black_White_odds_ratio</th>\n",
       "      <th>Black_White_pval</th>\n",
       "      <th>Black_White_fdr</th>\n",
       "      <th>Black_White_CI</th>\n",
       "      <th>Black_Asian_odds_ratio</th>\n",
       "      <th>Black_Asian_pval</th>\n",
       "      <th>Black_Asian_fdr</th>\n",
       "      <th>Black_Asian_CI</th>\n",
       "      <th>Asian_White_odds_ratio</th>\n",
       "      <th>Asian_White_pval</th>\n",
       "      <th>Asian_White_fdr</th>\n",
       "      <th>Asian_White_CI</th>\n",
       "    </tr>\n",
       "    <tr>\n",
       "      <th>Hugo_Symbol</th>\n",
       "      <th></th>\n",
       "      <th></th>\n",
       "      <th></th>\n",
       "      <th></th>\n",
       "      <th></th>\n",
       "      <th></th>\n",
       "      <th></th>\n",
       "      <th></th>\n",
       "      <th></th>\n",
       "      <th></th>\n",
       "      <th></th>\n",
       "      <th></th>\n",
       "    </tr>\n",
       "  </thead>\n",
       "  <tbody>\n",
       "    <tr>\n",
       "      <th>PIK3CA</th>\n",
       "      <td>0.568906</td>\n",
       "      <td>0.000897</td>\n",
       "      <td>0.015698</td>\n",
       "      <td>(0.405, 0.799)</td>\n",
       "      <td>0.542897</td>\n",
       "      <td>0.013947</td>\n",
       "      <td>0.459373</td>\n",
       "      <td>(0.336, 0.877)</td>\n",
       "      <td>1.047909</td>\n",
       "      <td>0.852054</td>\n",
       "      <td>1.000000</td>\n",
       "      <td>(0.728, 1.508)</td>\n",
       "    </tr>\n",
       "    <tr>\n",
       "      <th>CDH1</th>\n",
       "      <td>0.410685</td>\n",
       "      <td>0.000454</td>\n",
       "      <td>0.015698</td>\n",
       "      <td>(0.239, 0.705)</td>\n",
       "      <td>0.771392</td>\n",
       "      <td>0.549469</td>\n",
       "      <td>0.769257</td>\n",
       "      <td>(0.354, 1.68)</td>\n",
       "      <td>0.532394</td>\n",
       "      <td>0.029460</td>\n",
       "      <td>0.515558</td>\n",
       "      <td>(0.297, 0.956)</td>\n",
       "    </tr>\n",
       "  </tbody>\n",
       "</table>\n",
       "</div>"
      ],
      "text/plain": [
       "             Black_White_odds_ratio  Black_White_pval  Black_White_fdr  \\\n",
       "Hugo_Symbol                                                              \n",
       "PIK3CA                     0.568906          0.000897         0.015698   \n",
       "CDH1                       0.410685          0.000454         0.015698   \n",
       "\n",
       "             Black_White_CI  Black_Asian_odds_ratio  Black_Asian_pval  \\\n",
       "Hugo_Symbol                                                             \n",
       "PIK3CA       (0.405, 0.799)                0.542897          0.013947   \n",
       "CDH1         (0.239, 0.705)                0.771392          0.549469   \n",
       "\n",
       "             Black_Asian_fdr  Black_Asian_CI  Asian_White_odds_ratio  \\\n",
       "Hugo_Symbol                                                            \n",
       "PIK3CA              0.459373  (0.336, 0.877)                1.047909   \n",
       "CDH1                0.769257   (0.354, 1.68)                0.532394   \n",
       "\n",
       "             Asian_White_pval  Asian_White_fdr  Asian_White_CI  \n",
       "Hugo_Symbol                                                     \n",
       "PIK3CA               0.852054         1.000000  (0.728, 1.508)  \n",
       "CDH1                 0.029460         0.515558  (0.297, 0.956)  "
      ]
     },
     "execution_count": 91,
     "metadata": {},
     "output_type": "execute_result"
    }
   ],
   "source": [
    "comb_pval_dict['met'].loc[comb_sig_genes_dict['met']]"
   ]
  },
  {
   "cell_type": "markdown",
   "metadata": {},
   "source": [
    "#### Asian vs White"
   ]
  },
  {
   "cell_type": "code",
   "execution_count": 92,
   "metadata": {},
   "outputs": [
    {
     "data": {
      "text/html": [
       "<div>\n",
       "<style scoped>\n",
       "    .dataframe tbody tr th:only-of-type {\n",
       "        vertical-align: middle;\n",
       "    }\n",
       "\n",
       "    .dataframe tbody tr th {\n",
       "        vertical-align: top;\n",
       "    }\n",
       "\n",
       "    .dataframe thead th {\n",
       "        text-align: right;\n",
       "    }\n",
       "</style>\n",
       "<table border=\"1\" class=\"dataframe\">\n",
       "  <thead>\n",
       "    <tr style=\"text-align: right;\">\n",
       "      <th></th>\n",
       "      <th>Asian_White_pval</th>\n",
       "      <th>Asian_White_fdr</th>\n",
       "      <th>Asian_White_odds_ratio</th>\n",
       "      <th>Asian_White_CI</th>\n",
       "    </tr>\n",
       "    <tr>\n",
       "      <th>Hugo_Symbol</th>\n",
       "      <th></th>\n",
       "      <th></th>\n",
       "      <th></th>\n",
       "      <th></th>\n",
       "    </tr>\n",
       "  </thead>\n",
       "  <tbody>\n",
       "  </tbody>\n",
       "</table>\n",
       "</div>"
      ],
      "text/plain": [
       "Empty DataFrame\n",
       "Columns: [Asian_White_pval, Asian_White_fdr, Asian_White_odds_ratio, Asian_White_CI]\n",
       "Index: []"
      ]
     },
     "execution_count": 92,
     "metadata": {},
     "output_type": "execute_result"
    }
   ],
   "source": [
    "comb_sig_pval_dict['met'][('Asian', 'White')]"
   ]
  },
  {
   "cell_type": "code",
   "execution_count": 93,
   "metadata": {},
   "outputs": [
    {
     "data": {
      "text/html": [
       "<div>\n",
       "<style scoped>\n",
       "    .dataframe tbody tr th:only-of-type {\n",
       "        vertical-align: middle;\n",
       "    }\n",
       "\n",
       "    .dataframe tbody tr th {\n",
       "        vertical-align: top;\n",
       "    }\n",
       "\n",
       "    .dataframe thead th {\n",
       "        text-align: right;\n",
       "    }\n",
       "</style>\n",
       "<table border=\"1\" class=\"dataframe\">\n",
       "  <thead>\n",
       "    <tr style=\"text-align: right;\">\n",
       "      <th>PRIMARY_RACE</th>\n",
       "      <th>Asian</th>\n",
       "      <th>White</th>\n",
       "    </tr>\n",
       "    <tr>\n",
       "      <th>Hugo_Symbol</th>\n",
       "      <th></th>\n",
       "      <th></th>\n",
       "    </tr>\n",
       "  </thead>\n",
       "  <tbody>\n",
       "  </tbody>\n",
       "</table>\n",
       "</div>"
      ],
      "text/plain": [
       "Empty DataFrame\n",
       "Columns: [Asian, White]\n",
       "Index: []"
      ]
     },
     "execution_count": 93,
     "metadata": {},
     "output_type": "execute_result"
    }
   ],
   "source": [
    "comb_sig_freq_dict['met'][('Asian', 'White')]"
   ]
  },
  {
   "cell_type": "markdown",
   "metadata": {},
   "source": [
    "#### Black vs White"
   ]
  },
  {
   "cell_type": "code",
   "execution_count": 94,
   "metadata": {},
   "outputs": [
    {
     "data": {
      "text/html": [
       "<div>\n",
       "<style scoped>\n",
       "    .dataframe tbody tr th:only-of-type {\n",
       "        vertical-align: middle;\n",
       "    }\n",
       "\n",
       "    .dataframe tbody tr th {\n",
       "        vertical-align: top;\n",
       "    }\n",
       "\n",
       "    .dataframe thead th {\n",
       "        text-align: right;\n",
       "    }\n",
       "</style>\n",
       "<table border=\"1\" class=\"dataframe\">\n",
       "  <thead>\n",
       "    <tr style=\"text-align: right;\">\n",
       "      <th></th>\n",
       "      <th>Black_White_pval</th>\n",
       "      <th>Black_White_fdr</th>\n",
       "      <th>Black_White_odds_ratio</th>\n",
       "      <th>Black_White_CI</th>\n",
       "    </tr>\n",
       "    <tr>\n",
       "      <th>Hugo_Symbol</th>\n",
       "      <th></th>\n",
       "      <th></th>\n",
       "      <th></th>\n",
       "      <th></th>\n",
       "    </tr>\n",
       "  </thead>\n",
       "  <tbody>\n",
       "    <tr>\n",
       "      <th>CDH1</th>\n",
       "      <td>0.000454</td>\n",
       "      <td>0.015698</td>\n",
       "      <td>0.410685</td>\n",
       "      <td>(0.239, 0.705)</td>\n",
       "    </tr>\n",
       "    <tr>\n",
       "      <th>PIK3CA</th>\n",
       "      <td>0.000897</td>\n",
       "      <td>0.015698</td>\n",
       "      <td>0.568906</td>\n",
       "      <td>(0.405, 0.799)</td>\n",
       "    </tr>\n",
       "  </tbody>\n",
       "</table>\n",
       "</div>"
      ],
      "text/plain": [
       "             Black_White_pval  Black_White_fdr  Black_White_odds_ratio  \\\n",
       "Hugo_Symbol                                                              \n",
       "CDH1                 0.000454         0.015698                0.410685   \n",
       "PIK3CA               0.000897         0.015698                0.568906   \n",
       "\n",
       "             Black_White_CI  \n",
       "Hugo_Symbol                  \n",
       "CDH1         (0.239, 0.705)  \n",
       "PIK3CA       (0.405, 0.799)  "
      ]
     },
     "execution_count": 94,
     "metadata": {},
     "output_type": "execute_result"
    }
   ],
   "source": [
    "comb_sig_pval_dict['met'][('Black', 'White')]"
   ]
  },
  {
   "cell_type": "code",
   "execution_count": 95,
   "metadata": {},
   "outputs": [
    {
     "data": {
      "text/html": [
       "<div>\n",
       "<style scoped>\n",
       "    .dataframe tbody tr th:only-of-type {\n",
       "        vertical-align: middle;\n",
       "    }\n",
       "\n",
       "    .dataframe tbody tr th {\n",
       "        vertical-align: top;\n",
       "    }\n",
       "\n",
       "    .dataframe thead th {\n",
       "        text-align: right;\n",
       "    }\n",
       "</style>\n",
       "<table border=\"1\" class=\"dataframe\">\n",
       "  <thead>\n",
       "    <tr style=\"text-align: right;\">\n",
       "      <th>PRIMARY_RACE</th>\n",
       "      <th>Black</th>\n",
       "      <th>White</th>\n",
       "    </tr>\n",
       "    <tr>\n",
       "      <th>Hugo_Symbol</th>\n",
       "      <th></th>\n",
       "      <th></th>\n",
       "    </tr>\n",
       "  </thead>\n",
       "  <tbody>\n",
       "    <tr>\n",
       "      <th>CDH1</th>\n",
       "      <td>7.772021</td>\n",
       "      <td>17.025749</td>\n",
       "    </tr>\n",
       "    <tr>\n",
       "      <th>PIK3CA</th>\n",
       "      <td>24.870466</td>\n",
       "      <td>36.784025</td>\n",
       "    </tr>\n",
       "  </tbody>\n",
       "</table>\n",
       "</div>"
      ],
      "text/plain": [
       "PRIMARY_RACE      Black      White\n",
       "Hugo_Symbol                       \n",
       "CDH1           7.772021  17.025749\n",
       "PIK3CA        24.870466  36.784025"
      ]
     },
     "execution_count": 95,
     "metadata": {},
     "output_type": "execute_result"
    }
   ],
   "source": [
    "comb_sig_freq_dict['met'][('Black', 'White')]"
   ]
  },
  {
   "cell_type": "markdown",
   "metadata": {},
   "source": [
    "#### Black vs Asian"
   ]
  },
  {
   "cell_type": "code",
   "execution_count": 96,
   "metadata": {},
   "outputs": [
    {
     "data": {
      "text/html": [
       "<div>\n",
       "<style scoped>\n",
       "    .dataframe tbody tr th:only-of-type {\n",
       "        vertical-align: middle;\n",
       "    }\n",
       "\n",
       "    .dataframe tbody tr th {\n",
       "        vertical-align: top;\n",
       "    }\n",
       "\n",
       "    .dataframe thead th {\n",
       "        text-align: right;\n",
       "    }\n",
       "</style>\n",
       "<table border=\"1\" class=\"dataframe\">\n",
       "  <thead>\n",
       "    <tr style=\"text-align: right;\">\n",
       "      <th></th>\n",
       "      <th>Black_Asian_pval</th>\n",
       "      <th>Black_Asian_fdr</th>\n",
       "      <th>Black_Asian_odds_ratio</th>\n",
       "      <th>Black_Asian_CI</th>\n",
       "    </tr>\n",
       "    <tr>\n",
       "      <th>Hugo_Symbol</th>\n",
       "      <th></th>\n",
       "      <th></th>\n",
       "      <th></th>\n",
       "      <th></th>\n",
       "    </tr>\n",
       "  </thead>\n",
       "  <tbody>\n",
       "  </tbody>\n",
       "</table>\n",
       "</div>"
      ],
      "text/plain": [
       "Empty DataFrame\n",
       "Columns: [Black_Asian_pval, Black_Asian_fdr, Black_Asian_odds_ratio, Black_Asian_CI]\n",
       "Index: []"
      ]
     },
     "execution_count": 96,
     "metadata": {},
     "output_type": "execute_result"
    }
   ],
   "source": [
    "comb_sig_pval_dict['met'][('Black', 'Asian')]"
   ]
  },
  {
   "cell_type": "code",
   "execution_count": 97,
   "metadata": {},
   "outputs": [
    {
     "data": {
      "text/html": [
       "<div>\n",
       "<style scoped>\n",
       "    .dataframe tbody tr th:only-of-type {\n",
       "        vertical-align: middle;\n",
       "    }\n",
       "\n",
       "    .dataframe tbody tr th {\n",
       "        vertical-align: top;\n",
       "    }\n",
       "\n",
       "    .dataframe thead th {\n",
       "        text-align: right;\n",
       "    }\n",
       "</style>\n",
       "<table border=\"1\" class=\"dataframe\">\n",
       "  <thead>\n",
       "    <tr style=\"text-align: right;\">\n",
       "      <th>PRIMARY_RACE</th>\n",
       "      <th>Black</th>\n",
       "      <th>Asian</th>\n",
       "    </tr>\n",
       "    <tr>\n",
       "      <th>Hugo_Symbol</th>\n",
       "      <th></th>\n",
       "      <th></th>\n",
       "    </tr>\n",
       "  </thead>\n",
       "  <tbody>\n",
       "  </tbody>\n",
       "</table>\n",
       "</div>"
      ],
      "text/plain": [
       "Empty DataFrame\n",
       "Columns: [Black, Asian]\n",
       "Index: []"
      ]
     },
     "execution_count": 97,
     "metadata": {},
     "output_type": "execute_result"
    }
   ],
   "source": [
    "comb_sig_freq_dict['met'][('Black', 'Asian')]"
   ]
  },
  {
   "cell_type": "markdown",
   "metadata": {},
   "source": [
    "### Mutation Prevalence Plots"
   ]
  },
  {
   "cell_type": "markdown",
   "metadata": {},
   "source": [
    "#### Primary Genes"
   ]
  },
  {
   "cell_type": "code",
   "execution_count": 98,
   "metadata": {},
   "outputs": [
    {
     "data": {
      "image/png": "[encoded data removed]",
      "text/plain": [
       "<Figure size 720x1080 with 1 Axes>"
      ]
     },
     "metadata": {
      "needs_background": "light"
     },
     "output_type": "display_data"
    }
   ],
   "source": [
    "df = comb_mut_freq_dict['prim'].sort_values(['Asian'], ascending=False)\n",
    "ax = df.plot(kind='barh', figsize=(10, 15), width=0.8)\n",
    "hfont = {'fontname':'Helvetica'}\n",
    "plt.title('Primary Tumor Mutations in Breast Cancer', fontsize=20, **hfont)\n",
    "plt.xlabel('Patients with Mutation (%)', fontsize=15, **hfont)\n",
    "plt.ylabel('Gene', fontsize=15, **hfont)\n",
    "plt.xticks(size=15, **hfont)\n",
    "plt.yticks(size=15, **hfont)\n",
    "plt.xlim((0, 100))\n",
    "ax.invert_yaxis()\n",
    "plt.legend(prop={'family':'Helvetica', 'size': 15}, loc='lower right')\n",
    "plt.tight_layout()\n",
    "# plt.savefig('figures/breast/Top20+Tumor_Portal/breast_top20+TP_prim.pdf')"
   ]
  },
  {
   "cell_type": "markdown",
   "metadata": {},
   "source": [
    "#### Metastatic Genes"
   ]
  },
  {
   "cell_type": "code",
   "execution_count": 99,
   "metadata": {
    "scrolled": false
   },
   "outputs": [
    {
     "data": {
      "image/png": "[encoded data removed]",
      "text/plain": [
       "<Figure size 720x1080 with 1 Axes>"
      ]
     },
     "metadata": {
      "needs_background": "light"
     },
     "output_type": "display_data"
    }
   ],
   "source": [
    "df = comb_mut_freq_dict['met'].sort_values(['Asian'], ascending=False)\n",
    "ax = df.plot(kind='barh', figsize=(10, 15), width=0.8)\n",
    "hfont = {'fontname':'Helvetica'}\n",
    "plt.title('Metastatic Tumor Mutations in Breast Cancer', fontsize=20, **hfont)\n",
    "plt.xlabel('Patients with Mutation (%)', fontsize=15, **hfont)\n",
    "plt.ylabel('Gene', fontsize=15, **hfont)\n",
    "plt.xticks(size=15, **hfont)\n",
    "plt.yticks(size=15, **hfont)\n",
    "plt.xlim((0, 100))\n",
    "ax.invert_yaxis()\n",
    "plt.legend(prop={'family':'Helvetica', 'size': 15}, loc='lower right')\n",
    "plt.tight_layout()\n",
    "# plt.savefig('figures/breast/Top20+Tumor_Portal/breast_top20+TP_met.pdf')"
   ]
  },
  {
   "cell_type": "markdown",
   "metadata": {},
   "source": [
    "### Variant Composition Plots"
   ]
  },
  {
   "cell_type": "code",
   "execution_count": 100,
   "metadata": {},
   "outputs": [],
   "source": [
    "comb_var_comp_cnt_dict = {}\n",
    "comb_var_comp_pct_dict = {}"
   ]
  },
  {
   "cell_type": "code",
   "execution_count": 101,
   "metadata": {},
   "outputs": [],
   "source": [
    "for (k1, v1), (k2, v2) in zip(var_mut_dict.items(), comb_mut_freq_dict.items()):\n",
    "    comb_var_comp_cnt_dict[k1], comb_var_comp_pct_dict[k1] = variant_comp(v1, v2.index)"
   ]
  },
  {
   "cell_type": "markdown",
   "metadata": {},
   "source": [
    "#### Primary"
   ]
  },
  {
   "cell_type": "code",
   "execution_count": 102,
   "metadata": {},
   "outputs": [
    {
     "data": {
      "image/png": "[encoded data removed]",
      "text/plain": [
       "<Figure size 2160x1080 with 1 Axes>"
      ]
     },
     "metadata": {
      "needs_background": "light"
     },
     "output_type": "display_data"
    }
   ],
   "source": [
    "ax = comb_var_comp_pct_dict['prim'].plot(kind='bar', stacked=True, figsize=(30, 15))\n",
    "chartBox = ax.get_position()\n",
    "ax.set_position([chartBox.x0, chartBox.y0, chartBox.width*0.6, chartBox.height])\n",
    "ax.legend(loc='upper center', bbox_to_anchor=(1.3, 1), ncol=2, prop={'size':20})\n",
    "plt.title(\"Variant Composition for Primary Breast Tumor Mutations\", size=35)\n",
    "plt.xlabel('Gene', size=25)\n",
    "plt.ylabel('Percent', size=25)\n",
    "plt.xticks(fontsize=20)\n",
    "plt.yticks(fontsize=20);"
   ]
  },
  {
   "cell_type": "markdown",
   "metadata": {},
   "source": [
    "#### Metastasis"
   ]
  },
  {
   "cell_type": "code",
   "execution_count": 103,
   "metadata": {},
   "outputs": [
    {
     "data": {
      "image/png": "[encoded data removed]",
      "text/plain": [
       "<Figure size 2160x1080 with 1 Axes>"
      ]
     },
     "metadata": {
      "needs_background": "light"
     },
     "output_type": "display_data"
    }
   ],
   "source": [
    "ax = comb_var_comp_pct_dict['met'].plot(kind='bar', stacked=True, figsize=(30, 15))\n",
    "chartBox = ax.get_position()\n",
    "ax.set_position([chartBox.x0, chartBox.y0, chartBox.width*0.6, chartBox.height])\n",
    "ax.legend(loc='upper center', bbox_to_anchor=(1.3, 1), ncol=2, prop={'size':20})\n",
    "plt.title(\"Variant Composition for Metastatic Breast Tumor Mutations\", size=35)\n",
    "plt.xlabel('Gene', size=25)\n",
    "plt.ylabel('Percent', size=25)\n",
    "plt.xticks(fontsize=20)\n",
    "plt.yticks(fontsize=20);"
   ]
  },
  {
   "cell_type": "markdown",
   "metadata": {},
   "source": [
    "### Panel Composition Plots"
   ]
  },
  {
   "cell_type": "code",
   "execution_count": 104,
   "metadata": {},
   "outputs": [],
   "source": [
    "comb_panel_comp_cnt_dict = {}\n",
    "comb_panel_comp_pct_dict = {}"
   ]
  },
  {
   "cell_type": "code",
   "execution_count": 105,
   "metadata": {},
   "outputs": [],
   "source": [
    "for (k1, v1), (k2, v2) in zip(var_mut_dict.items(), comb_mut_freq_dict.items()):\n",
    "    comb_panel_comp_cnt_dict[k1], comb_panel_comp_pct_dict[k1] = panel_comp(v1, v2.index)"
   ]
  },
  {
   "cell_type": "markdown",
   "metadata": {},
   "source": [
    "#### Primary"
   ]
  },
  {
   "cell_type": "code",
   "execution_count": 106,
   "metadata": {},
   "outputs": [
    {
     "data": {
      "image/png": "[encoded data removed]",
      "text/plain": [
       "<Figure size 2160x1080 with 1 Axes>"
      ]
     },
     "metadata": {
      "needs_background": "light"
     },
     "output_type": "display_data"
    }
   ],
   "source": [
    "ax = comb_panel_comp_pct_dict['prim'].plot(kind='bar', stacked=True, figsize=(30, 15))\n",
    "chartBox = ax.get_position()\n",
    "ax.set_position([chartBox.x0, chartBox.y0, chartBox.width*0.6, chartBox.height])\n",
    "ax.legend(loc='upper center', bbox_to_anchor=(1.3, 1), ncol=2, prop={'size':20})\n",
    "plt.title(\"Panel Composition for Primary Breast Tumor Mutations\", size=35)\n",
    "plt.xlabel('Gene', size=25)\n",
    "plt.ylabel('Percent', size=25)\n",
    "plt.xticks(fontsize=20)\n",
    "plt.yticks(fontsize=20);"
   ]
  },
  {
   "cell_type": "markdown",
   "metadata": {},
   "source": [
    "#### Metastasis"
   ]
  },
  {
   "cell_type": "code",
   "execution_count": 107,
   "metadata": {},
   "outputs": [
    {
     "data": {
      "image/png": "[encoded data removed]",
      "text/plain": [
       "<Figure size 2160x1080 with 1 Axes>"
      ]
     },
     "metadata": {
      "needs_background": "light"
     },
     "output_type": "display_data"
    }
   ],
   "source": [
    "ax = comb_panel_comp_pct_dict['met'].plot(kind='bar', stacked=True, figsize=(30, 15))\n",
    "chartBox = ax.get_position()\n",
    "ax.set_position([chartBox.x0, chartBox.y0, chartBox.width*0.6, chartBox.height])\n",
    "ax.legend(loc='upper center', bbox_to_anchor=(1.3, 1), ncol=2, prop={'size':20})\n",
    "plt.title(\"Panel Composition for Metastatic Breast Tumor Mutations\", size=35)\n",
    "plt.xlabel('Gene', size=25)\n",
    "plt.ylabel('Percent', size=25)\n",
    "plt.xticks(fontsize=20)\n",
    "plt.yticks(fontsize=20);"
   ]
  },
  {
   "cell_type": "markdown",
   "metadata": {},
   "source": [
    "### Main Figures"
   ]
  },
  {
   "cell_type": "code",
   "execution_count": 108,
   "metadata": {},
   "outputs": [],
   "source": [
    "from adjustText import adjust_text"
   ]
  },
  {
   "cell_type": "code",
   "execution_count": 109,
   "metadata": {},
   "outputs": [],
   "source": [
    "x_prim = np.log10(comb_pval_dict['prim'][['Black_White_fdr', 'Black_Asian_fdr', 'Asian_White_fdr']])\n",
    "x_met = -np.log10(comb_pval_dict['met'][['Black_White_fdr', 'Black_Asian_fdr', 'Asian_White_fdr']])"
   ]
  },
  {
   "cell_type": "code",
   "execution_count": 110,
   "metadata": {},
   "outputs": [],
   "source": [
    "def label_outliers(x, y, labels, x_min, y_min):\n",
    "    # label points that pass thresholds\n",
    "    x_pass = []\n",
    "    y_pass = []\n",
    "    genes_pass = []\n",
    "    for a, b, c in zip(x, y, labels):\n",
    "        if abs(a) >= x_min and abs(b) >= y_min:\n",
    "            x_pass.append(a)\n",
    "            y_pass.append(b)\n",
    "            genes_pass.append(c)\n",
    "            \n",
    "    return list(zip(x_pass, y_pass, genes_pass))"
   ]
  },
  {
   "cell_type": "code",
   "execution_count": 111,
   "metadata": {},
   "outputs": [],
   "source": [
    "split_y_prim_AW = comb_pm_mut_freq_dict['prim']['Asian'] - comb_pm_mut_freq_dict['prim']['White']\n",
    "split_y_prim_BW = comb_pm_mut_freq_dict['prim']['Black'] - comb_pm_mut_freq_dict['prim']['White']\n",
    "split_y_prim_BA = comb_pm_mut_freq_dict['prim']['Black'] - comb_pm_mut_freq_dict['prim']['Asian']"
   ]
  },
  {
   "cell_type": "code",
   "execution_count": 112,
   "metadata": {},
   "outputs": [],
   "source": [
    "split_y_met_AW = comb_pm_mut_freq_dict['met']['Asian'] - comb_pm_mut_freq_dict['met']['White']\n",
    "split_y_met_BW = comb_pm_mut_freq_dict['met']['Black'] - comb_pm_mut_freq_dict['met']['White']\n",
    "split_y_met_BA = comb_pm_mut_freq_dict['met']['Black'] - comb_pm_mut_freq_dict['met']['Asian']"
   ]
  },
  {
   "cell_type": "code",
   "execution_count": 113,
   "metadata": {},
   "outputs": [
    {
     "data": {
      "text/plain": [
       "''"
      ]
     },
     "execution_count": 113,
     "metadata": {},
     "output_type": "execute_result"
    },
    {
     "data": {
      "image/png": "[encoded data removed]",
      "text/plain": [
       "<Figure size 1008x864 with 1 Axes>"
      ]
     },
     "metadata": {
      "needs_background": "light"
     },
     "output_type": "display_data"
    }
   ],
   "source": [
    "# Split y-axis\n",
    "\n",
    "fig = plt.figure(figsize=(14, 12))\n",
    "# fig.patch.set_facecolor('white')\n",
    "\n",
    "plt.scatter(x_prim['Black_White_fdr'], split_y_prim_BW, label='Black vs. White', s=230, c='tab:olive', edgecolors='black')\n",
    "plt.scatter(x_prim['Asian_White_fdr'], split_y_prim_AW, label='Asian vs. White', s=230, c='tab:pink', edgecolors='black')\n",
    "plt.scatter(x_prim['Black_Asian_fdr'], split_y_prim_BA, label='Black vs. Asian', s=230, c='tab:cyan', edgecolors='black')\n",
    "\n",
    "plt.scatter(x_met['Black_White_fdr'], split_y_met_BW, s=230, c='tab:olive', edgecolors='black')\n",
    "plt.scatter(x_met['Asian_White_fdr'], split_y_met_AW, s=230, c='tab:pink', edgecolors='black')\n",
    "plt.scatter(x_met['Black_Asian_fdr'], split_y_met_BA, s=230, c='tab:cyan', edgecolors='black')\n",
    "\n",
    "plt.axvline(x=0, c='black')\n",
    "plt.axhline(y=0, c='black')\n",
    "\n",
    "# plot significance lines\n",
    "plt.axvline(x=-np.log10(0.05), c='red', linestyle='dashed', linewidth=3.5)\n",
    "plt.axvline(x=np.log10(0.05), c='red', linestyle='dashed', linewidth=3.5)\n",
    "\n",
    "hfont = {'fontname':'Helvetica'}\n",
    "plt.title('Breast Cancer', size=30, **hfont)\n",
    "plt.xlabel('-log10(FDR)', size=30, **hfont)\n",
    "plt.ylabel('Difference in Mutation Frequency (%)', size=30, **hfont)\n",
    "plt.xlim(-12, 12)\n",
    "plt.ylim(-15, 25)\n",
    "\n",
    "# plt.xticks(np.arange(-3, 3.5, 0.5))\n",
    "plt.xticks(fontsize=30)\n",
    "plt.yticks(fontsize=30)\n",
    "plt.tick_params('both', length=10, width=2, which='major')\n",
    "\n",
    "plt.legend(\n",
    "#     bbox_to_anchor=(1.05, 1), \n",
    "           loc='upper right', prop={\"family\":\"Helvetica\", 'size':20})\n",
    "\n",
    "x = pd.concat([x_prim['Black_White_fdr'], x_prim['Asian_White_fdr'], x_prim['Black_Asian_fdr'],\n",
    "          x_met['Black_White_fdr'], x_met['Asian_White_fdr'], x_met['Black_Asian_fdr']]).to_list()\n",
    "\n",
    "y = pd.concat([split_y_prim_BW, split_y_prim_AW, split_y_prim_BA, \n",
    "               split_y_met_BW, split_y_met_AW, split_y_met_BA]).to_list()\n",
    "\n",
    "labels = split_y_prim_BW.index.to_list() + split_y_prim_AW.index.to_list() + split_y_prim_BA.index.to_list() +\\\n",
    "            split_y_met_BW.index.to_list() + split_y_met_AW.index.to_list() + split_y_met_BA.index.to_list()\n",
    "\n",
    "outliers = label_outliers(x, y, labels, 0, 6)\n",
    "\n",
    "texts = [plt.text(x=a, y=b, s=label, size=30, **hfont) for a,b,label in outliers]\n",
    "adjust_text(texts, arrowprops=dict(arrowstyle=\"-\", color='k', lw=1.75))\n",
    "\n",
    "# plt.savefig(\"figures/breast/breast_FDR_scatter_v2.pdf\", bbox_inches='tight')\n",
    ";"
   ]
  },
  {
   "cell_type": "markdown",
   "metadata": {},
   "source": [
    "### Export data"
   ]
  },
  {
   "cell_type": "code",
   "execution_count": 114,
   "metadata": {},
   "outputs": [],
   "source": [
    "# rearrange order of columns\n",
    "pval_columns = ['Black_White_pval', 'Black_Asian_pval', 'Asian_White_pval',\n",
    "                'Black_White_fdr', 'Black_Asian_fdr', 'Asian_White_fdr',\n",
    "                'Black_White_odds_ratio', 'Black_Asian_odds_ratio', 'Asian_White_odds_ratio',\n",
    "                'Black_White_CI', 'Black_Asian_CI', 'Asian_White_CI']"
   ]
  },
  {
   "cell_type": "code",
   "execution_count": 115,
   "metadata": {},
   "outputs": [],
   "source": [
    "# # Mutation counts and sequenced counts\n",
    "# comb_pm_mut_seq_dict['prim'].to_csv(\n",
    "#     'data_tables/breast/breast_mut_seq_prim.txt', sep='\\t')\n",
    "\n",
    "# comb_pm_mut_seq_dict['met'].to_csv(\n",
    "#     'data_tables/breast/breast_mut_seq_met.txt', sep='\\t')"
   ]
  },
  {
   "cell_type": "code",
   "execution_count": 116,
   "metadata": {},
   "outputs": [],
   "source": [
    "# # Mutation frequency\n",
    "# comb_pm_mut_freq_dict['prim'].to_csv(\n",
    "#     'data_tables/breast/breast_mut_freq_prim.txt', sep='\\t')\n",
    "\n",
    "# comb_pm_mut_freq_dict['met'].to_csv(\n",
    "#     'data_tables/breast/breast_mut_freq_met.txt', sep='\\t')"
   ]
  },
  {
   "cell_type": "code",
   "execution_count": 117,
   "metadata": {},
   "outputs": [],
   "source": [
    "# # p-values and fdr\n",
    "# comb_pval_dict['prim'][pval_columns].to_csv(\n",
    "#     'data_tables/breast/breast_pval_prim.txt', sep='\\t')\n",
    "\n",
    "# comb_pval_dict['met'][pval_columns].to_csv(\n",
    "#     'data_tables/breast/breast_pval_met.txt', sep='\\t')"
   ]
  },
  {
   "cell_type": "markdown",
   "metadata": {},
   "source": [
    "## DDR Genes"
   ]
  },
  {
   "cell_type": "markdown",
   "metadata": {},
   "source": [
    "### Load DDR genes list"
   ]
  },
  {
   "cell_type": "code",
   "execution_count": 118,
   "metadata": {},
   "outputs": [],
   "source": [
    "# using these genes that were sequenced by all 7 panels\n",
    "DDR_genes = pd.DataFrame(['ATM', 'BRCA1', 'BRCA2', 'MSH2', 'MSH6'], columns=['Hugo_Symbol'])"
   ]
  },
  {
   "cell_type": "code",
   "execution_count": 119,
   "metadata": {},
   "outputs": [],
   "source": [
    "# remove DDR genes not in dataset, if any\n",
    "prim_DDR_genes = DDR_genes[DDR_genes['Hugo_Symbol'].isin(mut_seq_dict['prim'].index)]\n",
    "met_DDR_genes = DDR_genes[DDR_genes['Hugo_Symbol'].isin(mut_seq_dict['met'].index)]"
   ]
  },
  {
   "cell_type": "code",
   "execution_count": 120,
   "metadata": {},
   "outputs": [
    {
     "name": "stdout",
     "output_type": "stream",
     "text": [
      "5 5 5\n"
     ]
    }
   ],
   "source": [
    "# check if number of genes changed\n",
    "print(len(DDR_genes), len(prim_DDR_genes), len(met_DDR_genes))"
   ]
  },
  {
   "cell_type": "code",
   "execution_count": 121,
   "metadata": {},
   "outputs": [
    {
     "data": {
      "text/html": [
       "<div>\n",
       "<style scoped>\n",
       "    .dataframe tbody tr th:only-of-type {\n",
       "        vertical-align: middle;\n",
       "    }\n",
       "\n",
       "    .dataframe tbody tr th {\n",
       "        vertical-align: top;\n",
       "    }\n",
       "\n",
       "    .dataframe thead th {\n",
       "        text-align: right;\n",
       "    }\n",
       "</style>\n",
       "<table border=\"1\" class=\"dataframe\">\n",
       "  <thead>\n",
       "    <tr style=\"text-align: right;\">\n",
       "      <th></th>\n",
       "      <th>Hugo_Symbol</th>\n",
       "    </tr>\n",
       "  </thead>\n",
       "  <tbody>\n",
       "    <tr>\n",
       "      <th>0</th>\n",
       "      <td>True</td>\n",
       "    </tr>\n",
       "    <tr>\n",
       "      <th>1</th>\n",
       "      <td>True</td>\n",
       "    </tr>\n",
       "    <tr>\n",
       "      <th>2</th>\n",
       "      <td>True</td>\n",
       "    </tr>\n",
       "    <tr>\n",
       "      <th>3</th>\n",
       "      <td>True</td>\n",
       "    </tr>\n",
       "    <tr>\n",
       "      <th>4</th>\n",
       "      <td>True</td>\n",
       "    </tr>\n",
       "  </tbody>\n",
       "</table>\n",
       "</div>"
      ],
      "text/plain": [
       "   Hugo_Symbol\n",
       "0         True\n",
       "1         True\n",
       "2         True\n",
       "3         True\n",
       "4         True"
      ]
     },
     "execution_count": 121,
     "metadata": {},
     "output_type": "execute_result"
    }
   ],
   "source": [
    "prim_DDR_genes == met_DDR_genes"
   ]
  },
  {
   "cell_type": "code",
   "execution_count": 122,
   "metadata": {},
   "outputs": [],
   "source": [
    "# from here assuming prim_DDR genes are the same as met_DDR\n",
    "# assuming both prim and met have the same DDR genes\n",
    "# if not all True in printouts above, need to modify"
   ]
  },
  {
   "cell_type": "code",
   "execution_count": 123,
   "metadata": {},
   "outputs": [],
   "source": [
    "DDR_mut_dict = {}"
   ]
  },
  {
   "cell_type": "code",
   "execution_count": 124,
   "metadata": {},
   "outputs": [],
   "source": [
    "for key, value in mut_dict.items():\n",
    "    DDR_mut_dict[key] = value[value['Hugo_Symbol'].isin(prim_DDR_genes.iloc[:,0])]"
   ]
  },
  {
   "cell_type": "markdown",
   "metadata": {},
   "source": [
    "### Filter by variants of interest (use this for all genes calculation)"
   ]
  },
  {
   "cell_type": "code",
   "execution_count": 125,
   "metadata": {},
   "outputs": [],
   "source": [
    "DDR_var_mut_dict = {}"
   ]
  },
  {
   "cell_type": "code",
   "execution_count": 126,
   "metadata": {},
   "outputs": [],
   "source": [
    "for key, value in DDR_mut_dict.items():\n",
    "    DDR_var_mut_dict[key] = value[value['Variant_Classification'].isin(variants)]"
   ]
  },
  {
   "cell_type": "markdown",
   "metadata": {},
   "source": [
    "### Calculate mutation frequency (all genes)"
   ]
  },
  {
   "cell_type": "code",
   "execution_count": 127,
   "metadata": {},
   "outputs": [],
   "source": [
    "# using all patients as common denominator\n",
    "# use this mutation frequency for the combined graphs\n",
    "# using variant filtered mutations\n",
    "# count the number of unique patients with mutations in the DDR genes"
   ]
  },
  {
   "cell_type": "code",
   "execution_count": 128,
   "metadata": {},
   "outputs": [],
   "source": [
    "DDR_all_mut_cnt_dict = {}\n",
    "DDR_all_mut_freq_dict = {}"
   ]
  },
  {
   "cell_type": "code",
   "execution_count": 129,
   "metadata": {},
   "outputs": [
    {
     "name": "stdout",
     "output_type": "stream",
     "text": [
      "prim prim\n",
      "met met\n"
     ]
    }
   ],
   "source": [
    "for (k1, v1), (k2, v2) in zip(DDR_var_mut_dict.items(), {k: race_demo_dict[k] for k in ['prim', 'met']}.items()):\n",
    "    # checking order of prim and met is consistent\n",
    "    print(k1, k2)\n",
    "    mut_cnt = v1.groupby('PRIMARY_RACE')['PATIENT_ID'].nunique()\n",
    "    mut_cnt = mut_cnt.rename('DDR Mutations')\n",
    "    DDR_all_mut_cnt_dict[k1] = mut_cnt\n",
    "    \n",
    "    DDR_all_mut_freq_dict[k1] = (mut_cnt / v2.values * 100).to_frame().transpose()"
   ]
  },
  {
   "cell_type": "markdown",
   "metadata": {},
   "source": [
    "### Fisher's Test and FDR (all genes)"
   ]
  },
  {
   "cell_type": "code",
   "execution_count": 130,
   "metadata": {},
   "outputs": [],
   "source": [
    "# Note: p-values and FDR are the same here because only testing on hypothesis\n",
    "# we will not adjust p-values for combined genes"
   ]
  },
  {
   "cell_type": "code",
   "execution_count": 131,
   "metadata": {},
   "outputs": [],
   "source": [
    "DDR_all_pval_dict = {}"
   ]
  },
  {
   "cell_type": "code",
   "execution_count": 132,
   "metadata": {},
   "outputs": [
    {
     "name": "stdout",
     "output_type": "stream",
     "text": [
      "prim prim\n",
      "met met\n"
     ]
    }
   ],
   "source": [
    "for (k1, v1), (k2, v2) in zip(DDR_all_mut_cnt_dict.items(), {k: race_demo_dict[k] for k in ['prim', 'met']}.items()):\n",
    "    print(k1, k2)\n",
    "    df = v1.append(v2).to_frame().transpose()\n",
    "    df.columns = ['Asian_mut', 'Black_mut', 'White_mut', 'Asian_seq', 'Black_seq', 'White_seq']\n",
    "    df.index = ['DDR Mutations']\n",
    "    \n",
    "    DDR_all_pval_dict[k1] = fisher_fdr_all_groups(df, groups)"
   ]
  },
  {
   "cell_type": "code",
   "execution_count": 133,
   "metadata": {},
   "outputs": [
    {
     "data": {
      "text/plain": [
       "{'prim':                Black_White_odds_ratio  Black_White_pval  Black_White_fdr  \\\n",
       " DDR Mutations                0.966184               1.0              1.0   \n",
       " \n",
       "                Black_White_CI  Black_Asian_odds_ratio  Black_Asian_pval  \\\n",
       " DDR Mutations  (0.636, 1.468)                 1.47619          0.321473   \n",
       " \n",
       "                Black_Asian_fdr  Black_Asian_CI  Asian_White_odds_ratio  \\\n",
       " DDR Mutations         0.321473  (0.753, 2.894)                0.654511   \n",
       " \n",
       "                Asian_White_pval  Asian_White_fdr  Asian_White_CI  \n",
       " DDR Mutations          0.143624         0.143624  (0.374, 1.144)  ,\n",
       " 'met':                Black_White_odds_ratio  Black_White_pval  Black_White_fdr  \\\n",
       " DDR Mutations                0.651973          0.100971         0.100971   \n",
       " \n",
       "                Black_White_CI  Black_Asian_odds_ratio  Black_Asian_pval  \\\n",
       " DDR Mutations  (0.399, 1.065)                0.545977           0.08832   \n",
       " \n",
       "                Black_Asian_fdr  Black_Asian_CI  Asian_White_odds_ratio  \\\n",
       " DDR Mutations          0.08832  (0.283, 1.055)                1.194139   \n",
       " \n",
       "                Asian_White_pval  Asian_White_fdr  Asian_White_CI  \n",
       " DDR Mutations          0.444403         0.444403  (0.742, 1.921)  }"
      ]
     },
     "execution_count": 133,
     "metadata": {},
     "output_type": "execute_result"
    }
   ],
   "source": [
    "DDR_all_pval_dict"
   ]
  },
  {
   "cell_type": "code",
   "execution_count": 134,
   "metadata": {},
   "outputs": [],
   "source": [
    "prim_met_DDR_pval = pd.concat([DDR_all_pval_dict['prim'], DDR_all_pval_dict['met']])"
   ]
  },
  {
   "cell_type": "code",
   "execution_count": 135,
   "metadata": {},
   "outputs": [],
   "source": [
    "prim_met_DDR_pval.index = ['Primary', 'Metastasis']"
   ]
  },
  {
   "cell_type": "code",
   "execution_count": 136,
   "metadata": {},
   "outputs": [],
   "source": [
    "# prim_met_DDR_pval[pval_columns].to_csv('tables/breast/breast_DDR_all_pval.txt', sep='\\t')"
   ]
  },
  {
   "cell_type": "markdown",
   "metadata": {},
   "source": [
    "### Significant mutations (all genes)"
   ]
  },
  {
   "cell_type": "code",
   "execution_count": 137,
   "metadata": {},
   "outputs": [],
   "source": [
    "DDR_all_sig_pval_dict = {}\n",
    "DDR_all_sig_freq_dict = {}\n",
    "DDR_all_sig_genes_dict = {}"
   ]
  },
  {
   "cell_type": "code",
   "execution_count": 138,
   "metadata": {},
   "outputs": [],
   "source": [
    "for (k1, v1), (k2, v2) in zip(DDR_all_pval_dict.items(), DDR_all_mut_freq_dict.items()):\n",
    "    DDR_all_sig_genes_dict[k1], DDR_all_sig_pval_dict[k1], DDR_all_sig_freq_dict[k1] = find_sig_genes_groups(groups, v1, v2, 0.05)"
   ]
  },
  {
   "cell_type": "code",
   "execution_count": 139,
   "metadata": {},
   "outputs": [
    {
     "data": {
      "text/plain": [
       "{'prim': {('Black',\n",
       "   'White'): Empty DataFrame\n",
       "  Columns: [Black_White_pval, Black_White_fdr, Black_White_odds_ratio, Black_White_CI]\n",
       "  Index: [],\n",
       "  ('Black',\n",
       "   'Asian'): Empty DataFrame\n",
       "  Columns: [Black_Asian_pval, Black_Asian_fdr, Black_Asian_odds_ratio, Black_Asian_CI]\n",
       "  Index: [],\n",
       "  ('Asian',\n",
       "   'White'): Empty DataFrame\n",
       "  Columns: [Asian_White_pval, Asian_White_fdr, Asian_White_odds_ratio, Asian_White_CI]\n",
       "  Index: []},\n",
       " 'met': {('Black',\n",
       "   'White'): Empty DataFrame\n",
       "  Columns: [Black_White_pval, Black_White_fdr, Black_White_odds_ratio, Black_White_CI]\n",
       "  Index: [],\n",
       "  ('Black',\n",
       "   'Asian'): Empty DataFrame\n",
       "  Columns: [Black_Asian_pval, Black_Asian_fdr, Black_Asian_odds_ratio, Black_Asian_CI]\n",
       "  Index: [],\n",
       "  ('Asian',\n",
       "   'White'): Empty DataFrame\n",
       "  Columns: [Asian_White_pval, Asian_White_fdr, Asian_White_odds_ratio, Asian_White_CI]\n",
       "  Index: []}}"
      ]
     },
     "execution_count": 139,
     "metadata": {},
     "output_type": "execute_result"
    }
   ],
   "source": [
    "DDR_all_sig_pval_dict"
   ]
  },
  {
   "cell_type": "markdown",
   "metadata": {},
   "source": [
    "#### DDR Primary"
   ]
  },
  {
   "cell_type": "code",
   "execution_count": 140,
   "metadata": {},
   "outputs": [
    {
     "data": {
      "text/plain": [
       "{('Black',\n",
       "  'White'): Empty DataFrame\n",
       " Columns: [Black_White_pval, Black_White_fdr, Black_White_odds_ratio, Black_White_CI]\n",
       " Index: [],\n",
       " ('Black',\n",
       "  'Asian'): Empty DataFrame\n",
       " Columns: [Black_Asian_pval, Black_Asian_fdr, Black_Asian_odds_ratio, Black_Asian_CI]\n",
       " Index: [],\n",
       " ('Asian',\n",
       "  'White'): Empty DataFrame\n",
       " Columns: [Asian_White_pval, Asian_White_fdr, Asian_White_odds_ratio, Asian_White_CI]\n",
       " Index: []}"
      ]
     },
     "execution_count": 140,
     "metadata": {},
     "output_type": "execute_result"
    }
   ],
   "source": [
    "DDR_all_sig_pval_dict['prim']"
   ]
  },
  {
   "cell_type": "code",
   "execution_count": 141,
   "metadata": {},
   "outputs": [
    {
     "data": {
      "text/plain": [
       "{('Black',\n",
       "  'White'): Empty DataFrame\n",
       " Columns: [Black, White]\n",
       " Index: [],\n",
       " ('Black',\n",
       "  'Asian'): Empty DataFrame\n",
       " Columns: [Black, Asian]\n",
       " Index: [],\n",
       " ('Asian',\n",
       "  'White'): Empty DataFrame\n",
       " Columns: [Asian, White]\n",
       " Index: []}"
      ]
     },
     "execution_count": 141,
     "metadata": {},
     "output_type": "execute_result"
    }
   ],
   "source": [
    "DDR_all_sig_freq_dict['prim']"
   ]
  },
  {
   "cell_type": "markdown",
   "metadata": {},
   "source": [
    "#### Asian vs White"
   ]
  },
  {
   "cell_type": "code",
   "execution_count": 142,
   "metadata": {},
   "outputs": [
    {
     "data": {
      "text/html": [
       "<div>\n",
       "<style scoped>\n",
       "    .dataframe tbody tr th:only-of-type {\n",
       "        vertical-align: middle;\n",
       "    }\n",
       "\n",
       "    .dataframe tbody tr th {\n",
       "        vertical-align: top;\n",
       "    }\n",
       "\n",
       "    .dataframe thead th {\n",
       "        text-align: right;\n",
       "    }\n",
       "</style>\n",
       "<table border=\"1\" class=\"dataframe\">\n",
       "  <thead>\n",
       "    <tr style=\"text-align: right;\">\n",
       "      <th></th>\n",
       "      <th>Asian_White_pval</th>\n",
       "      <th>Asian_White_fdr</th>\n",
       "      <th>Asian_White_odds_ratio</th>\n",
       "      <th>Asian_White_CI</th>\n",
       "    </tr>\n",
       "  </thead>\n",
       "  <tbody>\n",
       "  </tbody>\n",
       "</table>\n",
       "</div>"
      ],
      "text/plain": [
       "Empty DataFrame\n",
       "Columns: [Asian_White_pval, Asian_White_fdr, Asian_White_odds_ratio, Asian_White_CI]\n",
       "Index: []"
      ]
     },
     "execution_count": 142,
     "metadata": {},
     "output_type": "execute_result"
    }
   ],
   "source": [
    "DDR_all_sig_pval_dict['prim'][('Asian', 'White')]"
   ]
  },
  {
   "cell_type": "code",
   "execution_count": 143,
   "metadata": {},
   "outputs": [
    {
     "data": {
      "text/html": [
       "<div>\n",
       "<style scoped>\n",
       "    .dataframe tbody tr th:only-of-type {\n",
       "        vertical-align: middle;\n",
       "    }\n",
       "\n",
       "    .dataframe tbody tr th {\n",
       "        vertical-align: top;\n",
       "    }\n",
       "\n",
       "    .dataframe thead th {\n",
       "        text-align: right;\n",
       "    }\n",
       "</style>\n",
       "<table border=\"1\" class=\"dataframe\">\n",
       "  <thead>\n",
       "    <tr style=\"text-align: right;\">\n",
       "      <th></th>\n",
       "      <th>Asian_White_pval</th>\n",
       "      <th>Asian_White_fdr</th>\n",
       "      <th>Asian_White_odds_ratio</th>\n",
       "      <th>Asian_White_CI</th>\n",
       "    </tr>\n",
       "  </thead>\n",
       "  <tbody>\n",
       "  </tbody>\n",
       "</table>\n",
       "</div>"
      ],
      "text/plain": [
       "Empty DataFrame\n",
       "Columns: [Asian_White_pval, Asian_White_fdr, Asian_White_odds_ratio, Asian_White_CI]\n",
       "Index: []"
      ]
     },
     "execution_count": 143,
     "metadata": {},
     "output_type": "execute_result"
    }
   ],
   "source": [
    "DDR_all_sig_pval_dict['prim'][('Asian', 'White')]"
   ]
  },
  {
   "cell_type": "markdown",
   "metadata": {},
   "source": [
    "#### Black vs White"
   ]
  },
  {
   "cell_type": "code",
   "execution_count": 144,
   "metadata": {},
   "outputs": [
    {
     "data": {
      "text/html": [
       "<div>\n",
       "<style scoped>\n",
       "    .dataframe tbody tr th:only-of-type {\n",
       "        vertical-align: middle;\n",
       "    }\n",
       "\n",
       "    .dataframe tbody tr th {\n",
       "        vertical-align: top;\n",
       "    }\n",
       "\n",
       "    .dataframe thead th {\n",
       "        text-align: right;\n",
       "    }\n",
       "</style>\n",
       "<table border=\"1\" class=\"dataframe\">\n",
       "  <thead>\n",
       "    <tr style=\"text-align: right;\">\n",
       "      <th></th>\n",
       "      <th>Black_White_pval</th>\n",
       "      <th>Black_White_fdr</th>\n",
       "      <th>Black_White_odds_ratio</th>\n",
       "      <th>Black_White_CI</th>\n",
       "    </tr>\n",
       "  </thead>\n",
       "  <tbody>\n",
       "  </tbody>\n",
       "</table>\n",
       "</div>"
      ],
      "text/plain": [
       "Empty DataFrame\n",
       "Columns: [Black_White_pval, Black_White_fdr, Black_White_odds_ratio, Black_White_CI]\n",
       "Index: []"
      ]
     },
     "execution_count": 144,
     "metadata": {},
     "output_type": "execute_result"
    }
   ],
   "source": [
    "DDR_all_sig_pval_dict['prim'][('Black', 'White')]"
   ]
  },
  {
   "cell_type": "code",
   "execution_count": 145,
   "metadata": {},
   "outputs": [
    {
     "data": {
      "text/html": [
       "<div>\n",
       "<style scoped>\n",
       "    .dataframe tbody tr th:only-of-type {\n",
       "        vertical-align: middle;\n",
       "    }\n",
       "\n",
       "    .dataframe tbody tr th {\n",
       "        vertical-align: top;\n",
       "    }\n",
       "\n",
       "    .dataframe thead th {\n",
       "        text-align: right;\n",
       "    }\n",
       "</style>\n",
       "<table border=\"1\" class=\"dataframe\">\n",
       "  <thead>\n",
       "    <tr style=\"text-align: right;\">\n",
       "      <th></th>\n",
       "      <th>Black_White_pval</th>\n",
       "      <th>Black_White_fdr</th>\n",
       "      <th>Black_White_odds_ratio</th>\n",
       "      <th>Black_White_CI</th>\n",
       "    </tr>\n",
       "  </thead>\n",
       "  <tbody>\n",
       "  </tbody>\n",
       "</table>\n",
       "</div>"
      ],
      "text/plain": [
       "Empty DataFrame\n",
       "Columns: [Black_White_pval, Black_White_fdr, Black_White_odds_ratio, Black_White_CI]\n",
       "Index: []"
      ]
     },
     "execution_count": 145,
     "metadata": {},
     "output_type": "execute_result"
    }
   ],
   "source": [
    "DDR_all_sig_pval_dict['prim'][('Black', 'White')]"
   ]
  },
  {
   "cell_type": "markdown",
   "metadata": {},
   "source": [
    "#### Black vs Asian"
   ]
  },
  {
   "cell_type": "code",
   "execution_count": 146,
   "metadata": {},
   "outputs": [
    {
     "data": {
      "text/html": [
       "<div>\n",
       "<style scoped>\n",
       "    .dataframe tbody tr th:only-of-type {\n",
       "        vertical-align: middle;\n",
       "    }\n",
       "\n",
       "    .dataframe tbody tr th {\n",
       "        vertical-align: top;\n",
       "    }\n",
       "\n",
       "    .dataframe thead th {\n",
       "        text-align: right;\n",
       "    }\n",
       "</style>\n",
       "<table border=\"1\" class=\"dataframe\">\n",
       "  <thead>\n",
       "    <tr style=\"text-align: right;\">\n",
       "      <th></th>\n",
       "      <th>Black_Asian_pval</th>\n",
       "      <th>Black_Asian_fdr</th>\n",
       "      <th>Black_Asian_odds_ratio</th>\n",
       "      <th>Black_Asian_CI</th>\n",
       "    </tr>\n",
       "  </thead>\n",
       "  <tbody>\n",
       "  </tbody>\n",
       "</table>\n",
       "</div>"
      ],
      "text/plain": [
       "Empty DataFrame\n",
       "Columns: [Black_Asian_pval, Black_Asian_fdr, Black_Asian_odds_ratio, Black_Asian_CI]\n",
       "Index: []"
      ]
     },
     "execution_count": 146,
     "metadata": {},
     "output_type": "execute_result"
    }
   ],
   "source": [
    "DDR_all_sig_pval_dict['prim'][('Black', 'Asian')]"
   ]
  },
  {
   "cell_type": "code",
   "execution_count": 147,
   "metadata": {},
   "outputs": [
    {
     "data": {
      "text/html": [
       "<div>\n",
       "<style scoped>\n",
       "    .dataframe tbody tr th:only-of-type {\n",
       "        vertical-align: middle;\n",
       "    }\n",
       "\n",
       "    .dataframe tbody tr th {\n",
       "        vertical-align: top;\n",
       "    }\n",
       "\n",
       "    .dataframe thead th {\n",
       "        text-align: right;\n",
       "    }\n",
       "</style>\n",
       "<table border=\"1\" class=\"dataframe\">\n",
       "  <thead>\n",
       "    <tr style=\"text-align: right;\">\n",
       "      <th></th>\n",
       "      <th>Black_Asian_pval</th>\n",
       "      <th>Black_Asian_fdr</th>\n",
       "      <th>Black_Asian_odds_ratio</th>\n",
       "      <th>Black_Asian_CI</th>\n",
       "    </tr>\n",
       "  </thead>\n",
       "  <tbody>\n",
       "  </tbody>\n",
       "</table>\n",
       "</div>"
      ],
      "text/plain": [
       "Empty DataFrame\n",
       "Columns: [Black_Asian_pval, Black_Asian_fdr, Black_Asian_odds_ratio, Black_Asian_CI]\n",
       "Index: []"
      ]
     },
     "execution_count": 147,
     "metadata": {},
     "output_type": "execute_result"
    }
   ],
   "source": [
    "DDR_all_sig_pval_dict['prim'][('Black', 'Asian')]"
   ]
  },
  {
   "cell_type": "markdown",
   "metadata": {},
   "source": [
    "#### DDR Metastasis"
   ]
  },
  {
   "cell_type": "code",
   "execution_count": 148,
   "metadata": {},
   "outputs": [
    {
     "data": {
      "text/plain": [
       "{('Black',\n",
       "  'White'): Empty DataFrame\n",
       " Columns: [Black_White_pval, Black_White_fdr, Black_White_odds_ratio, Black_White_CI]\n",
       " Index: [],\n",
       " ('Black',\n",
       "  'Asian'): Empty DataFrame\n",
       " Columns: [Black_Asian_pval, Black_Asian_fdr, Black_Asian_odds_ratio, Black_Asian_CI]\n",
       " Index: [],\n",
       " ('Asian',\n",
       "  'White'): Empty DataFrame\n",
       " Columns: [Asian_White_pval, Asian_White_fdr, Asian_White_odds_ratio, Asian_White_CI]\n",
       " Index: []}"
      ]
     },
     "execution_count": 148,
     "metadata": {},
     "output_type": "execute_result"
    }
   ],
   "source": [
    "DDR_all_sig_pval_dict['met']"
   ]
  },
  {
   "cell_type": "code",
   "execution_count": 149,
   "metadata": {},
   "outputs": [
    {
     "data": {
      "text/plain": [
       "{('Black',\n",
       "  'White'): Empty DataFrame\n",
       " Columns: [Black, White]\n",
       " Index: [],\n",
       " ('Black',\n",
       "  'Asian'): Empty DataFrame\n",
       " Columns: [Black, Asian]\n",
       " Index: [],\n",
       " ('Asian',\n",
       "  'White'): Empty DataFrame\n",
       " Columns: [Asian, White]\n",
       " Index: []}"
      ]
     },
     "execution_count": 149,
     "metadata": {},
     "output_type": "execute_result"
    }
   ],
   "source": [
    "DDR_all_sig_freq_dict['met']"
   ]
  },
  {
   "cell_type": "markdown",
   "metadata": {},
   "source": [
    "#### Asian vs White"
   ]
  },
  {
   "cell_type": "code",
   "execution_count": 150,
   "metadata": {},
   "outputs": [
    {
     "data": {
      "text/html": [
       "<div>\n",
       "<style scoped>\n",
       "    .dataframe tbody tr th:only-of-type {\n",
       "        vertical-align: middle;\n",
       "    }\n",
       "\n",
       "    .dataframe tbody tr th {\n",
       "        vertical-align: top;\n",
       "    }\n",
       "\n",
       "    .dataframe thead th {\n",
       "        text-align: right;\n",
       "    }\n",
       "</style>\n",
       "<table border=\"1\" class=\"dataframe\">\n",
       "  <thead>\n",
       "    <tr style=\"text-align: right;\">\n",
       "      <th></th>\n",
       "      <th>Asian_White_pval</th>\n",
       "      <th>Asian_White_fdr</th>\n",
       "      <th>Asian_White_odds_ratio</th>\n",
       "      <th>Asian_White_CI</th>\n",
       "    </tr>\n",
       "  </thead>\n",
       "  <tbody>\n",
       "  </tbody>\n",
       "</table>\n",
       "</div>"
      ],
      "text/plain": [
       "Empty DataFrame\n",
       "Columns: [Asian_White_pval, Asian_White_fdr, Asian_White_odds_ratio, Asian_White_CI]\n",
       "Index: []"
      ]
     },
     "execution_count": 150,
     "metadata": {},
     "output_type": "execute_result"
    }
   ],
   "source": [
    "DDR_all_sig_pval_dict['met'][('Asian', 'White')]"
   ]
  },
  {
   "cell_type": "code",
   "execution_count": 151,
   "metadata": {},
   "outputs": [
    {
     "data": {
      "text/html": [
       "<div>\n",
       "<style scoped>\n",
       "    .dataframe tbody tr th:only-of-type {\n",
       "        vertical-align: middle;\n",
       "    }\n",
       "\n",
       "    .dataframe tbody tr th {\n",
       "        vertical-align: top;\n",
       "    }\n",
       "\n",
       "    .dataframe thead th {\n",
       "        text-align: right;\n",
       "    }\n",
       "</style>\n",
       "<table border=\"1\" class=\"dataframe\">\n",
       "  <thead>\n",
       "    <tr style=\"text-align: right;\">\n",
       "      <th></th>\n",
       "      <th>Asian_White_pval</th>\n",
       "      <th>Asian_White_fdr</th>\n",
       "      <th>Asian_White_odds_ratio</th>\n",
       "      <th>Asian_White_CI</th>\n",
       "    </tr>\n",
       "  </thead>\n",
       "  <tbody>\n",
       "  </tbody>\n",
       "</table>\n",
       "</div>"
      ],
      "text/plain": [
       "Empty DataFrame\n",
       "Columns: [Asian_White_pval, Asian_White_fdr, Asian_White_odds_ratio, Asian_White_CI]\n",
       "Index: []"
      ]
     },
     "execution_count": 151,
     "metadata": {},
     "output_type": "execute_result"
    }
   ],
   "source": [
    "DDR_all_sig_pval_dict['met'][('Asian', 'White')]"
   ]
  },
  {
   "cell_type": "markdown",
   "metadata": {},
   "source": [
    "#### Black vs White"
   ]
  },
  {
   "cell_type": "code",
   "execution_count": 152,
   "metadata": {},
   "outputs": [
    {
     "data": {
      "text/html": [
       "<div>\n",
       "<style scoped>\n",
       "    .dataframe tbody tr th:only-of-type {\n",
       "        vertical-align: middle;\n",
       "    }\n",
       "\n",
       "    .dataframe tbody tr th {\n",
       "        vertical-align: top;\n",
       "    }\n",
       "\n",
       "    .dataframe thead th {\n",
       "        text-align: right;\n",
       "    }\n",
       "</style>\n",
       "<table border=\"1\" class=\"dataframe\">\n",
       "  <thead>\n",
       "    <tr style=\"text-align: right;\">\n",
       "      <th></th>\n",
       "      <th>Black_White_pval</th>\n",
       "      <th>Black_White_fdr</th>\n",
       "      <th>Black_White_odds_ratio</th>\n",
       "      <th>Black_White_CI</th>\n",
       "    </tr>\n",
       "  </thead>\n",
       "  <tbody>\n",
       "  </tbody>\n",
       "</table>\n",
       "</div>"
      ],
      "text/plain": [
       "Empty DataFrame\n",
       "Columns: [Black_White_pval, Black_White_fdr, Black_White_odds_ratio, Black_White_CI]\n",
       "Index: []"
      ]
     },
     "execution_count": 152,
     "metadata": {},
     "output_type": "execute_result"
    }
   ],
   "source": [
    "DDR_all_sig_pval_dict['met'][('Black', 'White')]"
   ]
  },
  {
   "cell_type": "code",
   "execution_count": 153,
   "metadata": {},
   "outputs": [
    {
     "data": {
      "text/html": [
       "<div>\n",
       "<style scoped>\n",
       "    .dataframe tbody tr th:only-of-type {\n",
       "        vertical-align: middle;\n",
       "    }\n",
       "\n",
       "    .dataframe tbody tr th {\n",
       "        vertical-align: top;\n",
       "    }\n",
       "\n",
       "    .dataframe thead th {\n",
       "        text-align: right;\n",
       "    }\n",
       "</style>\n",
       "<table border=\"1\" class=\"dataframe\">\n",
       "  <thead>\n",
       "    <tr style=\"text-align: right;\">\n",
       "      <th></th>\n",
       "      <th>Black_White_pval</th>\n",
       "      <th>Black_White_fdr</th>\n",
       "      <th>Black_White_odds_ratio</th>\n",
       "      <th>Black_White_CI</th>\n",
       "    </tr>\n",
       "  </thead>\n",
       "  <tbody>\n",
       "  </tbody>\n",
       "</table>\n",
       "</div>"
      ],
      "text/plain": [
       "Empty DataFrame\n",
       "Columns: [Black_White_pval, Black_White_fdr, Black_White_odds_ratio, Black_White_CI]\n",
       "Index: []"
      ]
     },
     "execution_count": 153,
     "metadata": {},
     "output_type": "execute_result"
    }
   ],
   "source": [
    "DDR_all_sig_pval_dict['met'][('Black', 'White')]"
   ]
  },
  {
   "cell_type": "markdown",
   "metadata": {},
   "source": [
    "#### Black vs Asian"
   ]
  },
  {
   "cell_type": "code",
   "execution_count": 154,
   "metadata": {},
   "outputs": [
    {
     "data": {
      "text/html": [
       "<div>\n",
       "<style scoped>\n",
       "    .dataframe tbody tr th:only-of-type {\n",
       "        vertical-align: middle;\n",
       "    }\n",
       "\n",
       "    .dataframe tbody tr th {\n",
       "        vertical-align: top;\n",
       "    }\n",
       "\n",
       "    .dataframe thead th {\n",
       "        text-align: right;\n",
       "    }\n",
       "</style>\n",
       "<table border=\"1\" class=\"dataframe\">\n",
       "  <thead>\n",
       "    <tr style=\"text-align: right;\">\n",
       "      <th></th>\n",
       "      <th>Black_Asian_pval</th>\n",
       "      <th>Black_Asian_fdr</th>\n",
       "      <th>Black_Asian_odds_ratio</th>\n",
       "      <th>Black_Asian_CI</th>\n",
       "    </tr>\n",
       "  </thead>\n",
       "  <tbody>\n",
       "  </tbody>\n",
       "</table>\n",
       "</div>"
      ],
      "text/plain": [
       "Empty DataFrame\n",
       "Columns: [Black_Asian_pval, Black_Asian_fdr, Black_Asian_odds_ratio, Black_Asian_CI]\n",
       "Index: []"
      ]
     },
     "execution_count": 154,
     "metadata": {},
     "output_type": "execute_result"
    }
   ],
   "source": [
    "DDR_all_sig_pval_dict['met'][('Black', 'Asian')]"
   ]
  },
  {
   "cell_type": "code",
   "execution_count": 155,
   "metadata": {},
   "outputs": [
    {
     "data": {
      "text/html": [
       "<div>\n",
       "<style scoped>\n",
       "    .dataframe tbody tr th:only-of-type {\n",
       "        vertical-align: middle;\n",
       "    }\n",
       "\n",
       "    .dataframe tbody tr th {\n",
       "        vertical-align: top;\n",
       "    }\n",
       "\n",
       "    .dataframe thead th {\n",
       "        text-align: right;\n",
       "    }\n",
       "</style>\n",
       "<table border=\"1\" class=\"dataframe\">\n",
       "  <thead>\n",
       "    <tr style=\"text-align: right;\">\n",
       "      <th></th>\n",
       "      <th>Black_Asian_pval</th>\n",
       "      <th>Black_Asian_fdr</th>\n",
       "      <th>Black_Asian_odds_ratio</th>\n",
       "      <th>Black_Asian_CI</th>\n",
       "    </tr>\n",
       "  </thead>\n",
       "  <tbody>\n",
       "  </tbody>\n",
       "</table>\n",
       "</div>"
      ],
      "text/plain": [
       "Empty DataFrame\n",
       "Columns: [Black_Asian_pval, Black_Asian_fdr, Black_Asian_odds_ratio, Black_Asian_CI]\n",
       "Index: []"
      ]
     },
     "execution_count": 155,
     "metadata": {},
     "output_type": "execute_result"
    }
   ],
   "source": [
    "DDR_all_sig_pval_dict['met'][('Black', 'Asian')]"
   ]
  },
  {
   "cell_type": "markdown",
   "metadata": {},
   "source": [
    "### Mutation frequency plots (all genes)"
   ]
  },
  {
   "cell_type": "code",
   "execution_count": 156,
   "metadata": {},
   "outputs": [],
   "source": [
    "prim_met_DDR = pd.concat([DDR_all_mut_freq_dict['prim'], DDR_all_mut_freq_dict['met']])"
   ]
  },
  {
   "cell_type": "code",
   "execution_count": 157,
   "metadata": {},
   "outputs": [],
   "source": [
    "prim_met_DDR.index = ['Primary', 'Metastasis']"
   ]
  },
  {
   "cell_type": "code",
   "execution_count": 158,
   "metadata": {},
   "outputs": [],
   "source": [
    "# prim_met_DDR.to_csv('tables/breast/DDR_all_mut_freq.txt', sep='\\t')"
   ]
  },
  {
   "cell_type": "code",
   "execution_count": 159,
   "metadata": {},
   "outputs": [
    {
     "data": {
      "image/png": "[encoded data removed]",
      "text/plain": [
       "<Figure size 576x360 with 1 Axes>"
      ]
     },
     "metadata": {
      "needs_background": "light"
     },
     "output_type": "display_data"
    }
   ],
   "source": [
    "ax = (prim_met_DDR).plot(kind='barh', figsize=(8, 5), width=0.5)\n",
    "hfont = {'fontname':'Helvetica'}\n",
    "plt.title('DDR Mutation Frequency in Breast Cancer', fontsize=20, **hfont)\n",
    "plt.xlabel('Patients with Mutation (%)', fontsize=15, **hfont)\n",
    "plt.ylabel('DDR Mutations', fontsize=15, **hfont)\n",
    "plt.xticks(size=15, **hfont)\n",
    "plt.yticks(size=15, **hfont)\n",
    "plt.xlim((0, 100))\n",
    "ax.invert_yaxis()\n",
    "ax.set_yticklabels(['Primary', 'Metastasis'])\n",
    "plt.legend(prop={'family': 'Helvetica', 'size': 15}, loc='lower right')\n",
    "plt.tight_layout()\n",
    "# plt.savefig('figures/Breast/DDR_Actionable/breast_DDR_Action_all_prim.pdf')"
   ]
  },
  {
   "cell_type": "markdown",
   "metadata": {},
   "source": [
    "# Total mutation counts"
   ]
  },
  {
   "cell_type": "markdown",
   "metadata": {},
   "source": [
    "## Count mutations in each patient"
   ]
  },
  {
   "cell_type": "code",
   "execution_count": 160,
   "metadata": {},
   "outputs": [],
   "source": [
    "# find genes that were sequenced by all panels, using this as our driver gene list\n",
    "common_genes = combined_panels[combined_panels['SEQ_ASSAY_ID'].apply(len) == 7].index"
   ]
  },
  {
   "cell_type": "code",
   "execution_count": 161,
   "metadata": {},
   "outputs": [
    {
     "data": {
      "text/plain": [
       "181"
      ]
     },
     "execution_count": 161,
     "metadata": {},
     "output_type": "execute_result"
    }
   ],
   "source": [
    "len(common_genes)"
   ]
  },
  {
   "cell_type": "code",
   "execution_count": 162,
   "metadata": {},
   "outputs": [],
   "source": [
    "# Count number of mutations (specified by list) in each patient, separated by primary/metstastasis and by race\n",
    "\n",
    "# removing duplicates:\n",
    "# first choose sample sequenced by later panel\n",
    "# then if still duplicates, choose the sample with the largest mutation count\n",
    "\n",
    "# mut_tbl: mutation table in MAF format\n",
    "# driver_genes: list of driver genes to be counted\n",
    "# races: list of races to separate by\n",
    "def count_mutations(mut_tbl, genes, races):\n",
    "    race_dict = {}\n",
    "    mut = mut_tbl[mut_tbl['Hugo_Symbol'].isin(genes)]\n",
    "    # remove assay duplicates\n",
    "    mut = remove_duplicates(mut)\n",
    "    \n",
    "    for race in races:\n",
    "        # these are patients with >= 1 count\n",
    "        race_mut = mut[mut['PRIMARY_RACE'] == race]\n",
    "        race_mut_cnt = race_mut.groupby(['PATIENT_ID', 'SAMPLE_ID'])['SAMPLE_ID'].count()\n",
    "        \n",
    "        # for remaining duplicates, choose sample with highest mutation count\n",
    "        race_mut_cnt = race_mut_cnt.groupby('PATIENT_ID').max()\n",
    "        \n",
    "        # find patients with zero counts and add them back in\n",
    "        zero_IDs = mut_tbl[(mut_tbl['PRIMARY_RACE'] == race) & \n",
    "                           ~(mut_tbl['PATIENT_ID'].isin(race_mut_cnt.index))]['PATIENT_ID'].unique()\n",
    "        zero_mut_cnt = pd.Series(index=zero_IDs, data=0)\n",
    "        \n",
    "        total_cnt = pd.concat([race_mut_cnt, zero_mut_cnt], axis=0)\n",
    "        total_cnt = total_cnt.rename('Mutation Count')\n",
    "\n",
    "        race_dict[race] = total_cnt\n",
    "    \n",
    "    return race_dict"
   ]
  },
  {
   "cell_type": "code",
   "execution_count": 163,
   "metadata": {},
   "outputs": [],
   "source": [
    "driver_dict = {}"
   ]
  },
  {
   "cell_type": "code",
   "execution_count": 164,
   "metadata": {},
   "outputs": [],
   "source": [
    "for key, value in var_mut_dict.items():\n",
    "    driver_dict[key] = count_mutations(value, common_genes, races)"
   ]
  },
  {
   "cell_type": "markdown",
   "metadata": {},
   "source": [
    "## Mean and Median"
   ]
  },
  {
   "cell_type": "code",
   "execution_count": 165,
   "metadata": {},
   "outputs": [],
   "source": [
    "median_dict = {}"
   ]
  },
  {
   "cell_type": "code",
   "execution_count": 166,
   "metadata": {},
   "outputs": [],
   "source": [
    "for key, value in driver_dict.items():\n",
    "    means = []\n",
    "    medians = []\n",
    "    for race in races:\n",
    "        medians.append(np.median(value[race]))\n",
    "        means.append(np.mean(value[race]))\n",
    "    df = pd.DataFrame(np.array([means, medians]), index=['Mean', 'Median'], columns=races)\n",
    "    median_dict[key] = df"
   ]
  },
  {
   "cell_type": "code",
   "execution_count": 167,
   "metadata": {},
   "outputs": [
    {
     "data": {
      "text/html": [
       "<div>\n",
       "<style scoped>\n",
       "    .dataframe tbody tr th:only-of-type {\n",
       "        vertical-align: middle;\n",
       "    }\n",
       "\n",
       "    .dataframe tbody tr th {\n",
       "        vertical-align: top;\n",
       "    }\n",
       "\n",
       "    .dataframe thead th {\n",
       "        text-align: right;\n",
       "    }\n",
       "</style>\n",
       "<table border=\"1\" class=\"dataframe\">\n",
       "  <thead>\n",
       "    <tr style=\"text-align: right;\">\n",
       "      <th></th>\n",
       "      <th>Asian</th>\n",
       "      <th>Black</th>\n",
       "      <th>White</th>\n",
       "    </tr>\n",
       "  </thead>\n",
       "  <tbody>\n",
       "    <tr>\n",
       "      <th>Mean</th>\n",
       "      <td>2.844221</td>\n",
       "      <td>2.918519</td>\n",
       "      <td>2.996735</td>\n",
       "    </tr>\n",
       "    <tr>\n",
       "      <th>Median</th>\n",
       "      <td>3.000000</td>\n",
       "      <td>3.000000</td>\n",
       "      <td>2.000000</td>\n",
       "    </tr>\n",
       "  </tbody>\n",
       "</table>\n",
       "</div>"
      ],
      "text/plain": [
       "           Asian     Black     White\n",
       "Mean    2.844221  2.918519  2.996735\n",
       "Median  3.000000  3.000000  2.000000"
      ]
     },
     "execution_count": 167,
     "metadata": {},
     "output_type": "execute_result"
    }
   ],
   "source": [
    "median_dict['prim']"
   ]
  },
  {
   "cell_type": "code",
   "execution_count": 168,
   "metadata": {},
   "outputs": [
    {
     "data": {
      "text/html": [
       "<div>\n",
       "<style scoped>\n",
       "    .dataframe tbody tr th:only-of-type {\n",
       "        vertical-align: middle;\n",
       "    }\n",
       "\n",
       "    .dataframe tbody tr th {\n",
       "        vertical-align: top;\n",
       "    }\n",
       "\n",
       "    .dataframe thead th {\n",
       "        text-align: right;\n",
       "    }\n",
       "</style>\n",
       "<table border=\"1\" class=\"dataframe\">\n",
       "  <thead>\n",
       "    <tr style=\"text-align: right;\">\n",
       "      <th></th>\n",
       "      <th>Asian</th>\n",
       "      <th>Black</th>\n",
       "      <th>White</th>\n",
       "    </tr>\n",
       "  </thead>\n",
       "  <tbody>\n",
       "    <tr>\n",
       "      <th>Mean</th>\n",
       "      <td>3.189394</td>\n",
       "      <td>3.051813</td>\n",
       "      <td>3.914782</td>\n",
       "    </tr>\n",
       "    <tr>\n",
       "      <th>Median</th>\n",
       "      <td>3.000000</td>\n",
       "      <td>3.000000</td>\n",
       "      <td>3.000000</td>\n",
       "    </tr>\n",
       "  </tbody>\n",
       "</table>\n",
       "</div>"
      ],
      "text/plain": [
       "           Asian     Black     White\n",
       "Mean    3.189394  3.051813  3.914782\n",
       "Median  3.000000  3.000000  3.000000"
      ]
     },
     "execution_count": 168,
     "metadata": {},
     "output_type": "execute_result"
    }
   ],
   "source": [
    "median_dict['met']"
   ]
  },
  {
   "cell_type": "code",
   "execution_count": 169,
   "metadata": {},
   "outputs": [],
   "source": [
    "# median_dict['prim'].to_csv('tables/breast/breast_prim_median_count.txt', sep='\\t')"
   ]
  },
  {
   "cell_type": "code",
   "execution_count": 170,
   "metadata": {},
   "outputs": [],
   "source": [
    "# median_dict['met'].to_csv('tables/breast/breast_met_median_count.txt', sep='\\t')"
   ]
  },
  {
   "cell_type": "markdown",
   "metadata": {},
   "source": [
    "## Calculate significance (Wilcoxon Rank Sum)"
   ]
  },
  {
   "cell_type": "code",
   "execution_count": 171,
   "metadata": {},
   "outputs": [],
   "source": [
    "# calculate if distribution of mutation counts is different between races, including outliers\n",
    "# using Wilcoxon because mutation counts of each race is not normally distributed (tested using shapiro-wilk test)\n",
    "# also calculate percent difference of median count between races"
   ]
  },
  {
   "cell_type": "code",
   "execution_count": 172,
   "metadata": {},
   "outputs": [],
   "source": [
    "driver_pval_dict = {}"
   ]
  },
  {
   "cell_type": "code",
   "execution_count": 173,
   "metadata": {},
   "outputs": [],
   "source": [
    "# calculates the confidence interval of difference of medians for wilcoxon rank sum test\n",
    "# taken from here: https://gist.github.com/meetbash/aa5dbbeae746a173c5421ac57b45fe70#file-non_param_paired_ci-py\n",
    "\n",
    "def non_param_unpaired_CI(sample1, sample2, conf):\n",
    "    n1 = len(sample1)  \n",
    "    n2 = len(sample2)  \n",
    "    alpha = 1-conf      \n",
    "    N = stats.norm.ppf(1 - alpha/2) \n",
    "    # The confidence interval for the difference between the two population\n",
    "    # medians is derived through the n x m differences.\n",
    "    diffs = sorted([i-j for i in sample1 for j in sample2])\n",
    "    # the Kth smallest to the Kth largest of the n x m differences then determine \n",
    "    # the confidence interval, where K is:\n",
    "    k = np.math.ceil(n1*n2/2 - (N * (n1*n2*(n1+n2+1)/12)**0.5))\n",
    "    CI = (round(diffs[k-1],3), round(diffs[len(diffs)-k],3))\n",
    "    return CI"
   ]
  },
  {
   "cell_type": "code",
   "execution_count": 174,
   "metadata": {},
   "outputs": [],
   "source": [
    "for key, value in driver_dict.items():\n",
    "    df = pd.DataFrame(index=['Rank Sum Stat', 'p-value', 'CI', 'Mean Percent Difference'])\n",
    "    for group in groups:\n",
    "        pct_diff = (np.mean(value[group[0]]) - np.mean(value[group[1]])) / np.mean(value[group[1]]) * 100\n",
    "        CI = non_param_unpaired_CI(value[group[0]], value[group[1]], 0.95)\n",
    "        df[group[0] + '_' + group[1]] = list(stats.ranksums(value[group[0]], value[group[1]])) + [CI] + [pct_diff]\n",
    "    driver_pval_dict[key] = df"
   ]
  },
  {
   "cell_type": "code",
   "execution_count": 175,
   "metadata": {},
   "outputs": [
    {
     "name": "stdout",
     "output_type": "stream",
     "text": [
      "Primary Stats:\n"
     ]
    },
    {
     "data": {
      "text/html": [
       "<div>\n",
       "<style scoped>\n",
       "    .dataframe tbody tr th:only-of-type {\n",
       "        vertical-align: middle;\n",
       "    }\n",
       "\n",
       "    .dataframe tbody tr th {\n",
       "        vertical-align: top;\n",
       "    }\n",
       "\n",
       "    .dataframe thead th {\n",
       "        text-align: right;\n",
       "    }\n",
       "</style>\n",
       "<table border=\"1\" class=\"dataframe\">\n",
       "  <thead>\n",
       "    <tr style=\"text-align: right;\">\n",
       "      <th></th>\n",
       "      <th>Black_White</th>\n",
       "      <th>Black_Asian</th>\n",
       "      <th>Asian_White</th>\n",
       "    </tr>\n",
       "  </thead>\n",
       "  <tbody>\n",
       "    <tr>\n",
       "      <th>Rank Sum Stat</th>\n",
       "      <td>0.439364</td>\n",
       "      <td>-0.132698</td>\n",
       "      <td>0.583205</td>\n",
       "    </tr>\n",
       "    <tr>\n",
       "      <th>p-value</th>\n",
       "      <td>0.660398</td>\n",
       "      <td>0.894432</td>\n",
       "      <td>0.559755</td>\n",
       "    </tr>\n",
       "    <tr>\n",
       "      <th>CI</th>\n",
       "      <td>(0, 0)</td>\n",
       "      <td>(0, 0)</td>\n",
       "      <td>(0, 0)</td>\n",
       "    </tr>\n",
       "    <tr>\n",
       "      <th>Mean Percent Difference</th>\n",
       "      <td>-2.61005</td>\n",
       "      <td>2.61222</td>\n",
       "      <td>-5.08933</td>\n",
       "    </tr>\n",
       "  </tbody>\n",
       "</table>\n",
       "</div>"
      ],
      "text/plain": [
       "                        Black_White Black_Asian Asian_White\n",
       "Rank Sum Stat              0.439364   -0.132698    0.583205\n",
       "p-value                    0.660398    0.894432    0.559755\n",
       "CI                           (0, 0)      (0, 0)      (0, 0)\n",
       "Mean Percent Difference    -2.61005     2.61222    -5.08933"
      ]
     },
     "execution_count": 175,
     "metadata": {},
     "output_type": "execute_result"
    }
   ],
   "source": [
    "print('Primary Stats:')\n",
    "driver_pval_dict['prim']"
   ]
  },
  {
   "cell_type": "code",
   "execution_count": 176,
   "metadata": {},
   "outputs": [
    {
     "name": "stdout",
     "output_type": "stream",
     "text": [
      "Metastatic Stats:\n"
     ]
    },
    {
     "data": {
      "text/html": [
       "<div>\n",
       "<style scoped>\n",
       "    .dataframe tbody tr th:only-of-type {\n",
       "        vertical-align: middle;\n",
       "    }\n",
       "\n",
       "    .dataframe tbody tr th {\n",
       "        vertical-align: top;\n",
       "    }\n",
       "\n",
       "    .dataframe thead th {\n",
       "        text-align: right;\n",
       "    }\n",
       "</style>\n",
       "<table border=\"1\" class=\"dataframe\">\n",
       "  <thead>\n",
       "    <tr style=\"text-align: right;\">\n",
       "      <th></th>\n",
       "      <th>Black_White</th>\n",
       "      <th>Black_Asian</th>\n",
       "      <th>Asian_White</th>\n",
       "    </tr>\n",
       "  </thead>\n",
       "  <tbody>\n",
       "    <tr>\n",
       "      <th>Rank Sum Stat</th>\n",
       "      <td>-3.95173</td>\n",
       "      <td>-0.714007</td>\n",
       "      <td>-2.43616</td>\n",
       "    </tr>\n",
       "    <tr>\n",
       "      <th>p-value</th>\n",
       "      <td>7.75893e-05</td>\n",
       "      <td>0.475223</td>\n",
       "      <td>0.014844</td>\n",
       "    </tr>\n",
       "    <tr>\n",
       "      <th>CI</th>\n",
       "      <td>(-1, 0)</td>\n",
       "      <td>(-1, 0)</td>\n",
       "      <td>(-1, 0)</td>\n",
       "    </tr>\n",
       "    <tr>\n",
       "      <th>Mean Percent Difference</th>\n",
       "      <td>-22.0438</td>\n",
       "      <td>-4.31369</td>\n",
       "      <td>-18.5295</td>\n",
       "    </tr>\n",
       "  </tbody>\n",
       "</table>\n",
       "</div>"
      ],
      "text/plain": [
       "                         Black_White Black_Asian Asian_White\n",
       "Rank Sum Stat               -3.95173   -0.714007    -2.43616\n",
       "p-value                  7.75893e-05    0.475223    0.014844\n",
       "CI                           (-1, 0)     (-1, 0)     (-1, 0)\n",
       "Mean Percent Difference     -22.0438    -4.31369    -18.5295"
      ]
     },
     "execution_count": 176,
     "metadata": {},
     "output_type": "execute_result"
    }
   ],
   "source": [
    "print('Metastatic Stats:')\n",
    "driver_pval_dict['met']"
   ]
  },
  {
   "cell_type": "code",
   "execution_count": 177,
   "metadata": {},
   "outputs": [],
   "source": [
    "# driver_pval_dict['prim'].to_csv('tables/breast/breast_prim_count_stats.txt', sep='\\t')"
   ]
  },
  {
   "cell_type": "code",
   "execution_count": 178,
   "metadata": {},
   "outputs": [],
   "source": [
    "# driver_pval_dict['met'].to_csv('tables/breast/breast_met_count_stats.txt', sep='\\t')"
   ]
  },
  {
   "cell_type": "markdown",
   "metadata": {},
   "source": [
    "## Box Plot"
   ]
  },
  {
   "cell_type": "code",
   "execution_count": 179,
   "metadata": {},
   "outputs": [],
   "source": [
    "driver_count_dict = {}"
   ]
  },
  {
   "cell_type": "code",
   "execution_count": 180,
   "metadata": {},
   "outputs": [],
   "source": [
    "for key, value in driver_dict.items():\n",
    "    dfs = []\n",
    "    for race in races:\n",
    "        df = pd.DataFrame(value[race])\n",
    "        df['Race'] = race\n",
    "        if key == 'prim':\n",
    "            df['Sample Type'] = 'Primary'\n",
    "        else:\n",
    "            df['Sample Type'] = 'Metastasis'\n",
    "        dfs.append(df)\n",
    "    driver_count_dict[key] = pd.concat(dfs)   "
   ]
  },
  {
   "cell_type": "code",
   "execution_count": 181,
   "metadata": {},
   "outputs": [],
   "source": [
    "driver_df = pd.concat([driver_count_dict['prim'], driver_count_dict['met']])"
   ]
  },
  {
   "cell_type": "markdown",
   "metadata": {},
   "source": [
    "### Try a log scale"
   ]
  },
  {
   "cell_type": "code",
   "execution_count": 182,
   "metadata": {},
   "outputs": [],
   "source": [
    "# adding 1 to prevent infinity values\n",
    "driver_df['log10(Mutation Count)'] = np.log10(driver_df['Mutation Count'] + 1)"
   ]
  },
  {
   "cell_type": "code",
   "execution_count": 183,
   "metadata": {},
   "outputs": [
    {
     "data": {
      "text/plain": [
       "''"
      ]
     },
     "execution_count": 183,
     "metadata": {},
     "output_type": "execute_result"
    },
    {
     "data": {
      "image/png": "[encoded data removed]",
      "text/plain": [
       "<Figure size 1008x864 with 1 Axes>"
      ]
     },
     "metadata": {
      "needs_background": "light"
     },
     "output_type": "display_data"
    }
   ],
   "source": [
    "plt.figure(figsize=(14, 12))\n",
    "ax = sns.boxplot(data=driver_df[['log10(Mutation Count)', 'Race', 'Sample Type']], \n",
    "                 hue='Race', x='Sample Type', y='log10(Mutation Count)', notch=True, fliersize=12,\n",
    "#                 width=\n",
    "                )\n",
    "# plt.ylim(-0.1, 3)\n",
    "# ax.set_xlim(-0.55, 1.55)\n",
    "sns.despine(ax=ax)\n",
    "\n",
    "hfont = {'fontname':'Helvetica'}\n",
    "plt.title('Breast Cancer', size=30, **hfont)\n",
    "plt.xlabel('Sample Type', size=30, **hfont)\n",
    "plt.ylabel('Mutation Count', size=30, **hfont)\n",
    "plt.xticks(fontsize=30, **hfont)\n",
    "ax.set_yticks([np.log10(1), np.log10(11), np.log10(101), np.log10(1001)])\n",
    "ax.set_yticklabels(['0', '$10^1$', '$10^2$', '$10^3$'])\n",
    "plt.yticks(fontsize=30, **hfont)\n",
    "plt.tick_params('y', length=10, width=2, which='major')\n",
    "\n",
    "\n",
    "plt.legend(loc='upper right', prop={\"family\":\"Helvetica\", 'size':20})\n",
    "# plt.savefig(\"figures/breast/breast_boxplot_v3.pdf\", bbox_inches='tight')\n",
    ";"
   ]
  }
 ],
 "metadata": {
  "kernelspec": {
   "display_name": "Python 3",
   "language": "python",
   "name": "python3"
  },
  "language_info": {
   "codemirror_mode": {
    "name": "ipython",
    "version": 3
   },
   "file_extension": ".py",
   "mimetype": "text/x-python",
   "name": "python",
   "nbconvert_exporter": "python",
   "pygments_lexer": "ipython3",
   "version": "3.8.2"
  },
  "toc": {
   "base_numbering": 1,
   "nav_menu": {},
   "number_sections": true,
   "sideBar": true,
   "skip_h1_title": false,
   "title_cell": "Table of Contents",
   "title_sidebar": "Contents",
   "toc_cell": false,
   "toc_position": {
    "height": "calc(100% - 180px)",
    "left": "10px",
    "top": "150px",
    "width": "287.797px"
   },
   "toc_section_display": true,
   "toc_window_display": true
  }
 },
 "nbformat": 4,
 "nbformat_minor": 4
}
